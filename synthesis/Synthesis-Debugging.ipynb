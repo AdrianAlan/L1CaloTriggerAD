{
 "cells": [
  {
   "cell_type": "code",
   "execution_count": 2,
   "metadata": {},
   "outputs": [
    {
     "name": "stderr",
     "output_type": "stream",
     "text": [
      "/afs/cern.ch/work/a/adpol/l1calotriggerad/synthesis/hls4ml/converters/__init__.py:15: UserWarning: WARNING: Pytorch converter is not enabled!\n",
      "  warnings.warn(\"WARNING: Pytorch converter is not enabled!\")\n"
     ]
    }
   ],
   "source": [
    "import numpy as np\n",
    "import h5py\n",
    "import tensorflow as tf\n",
    "import hls4ml\n",
    "\n",
    "from qkeras import *\n",
    "from qkeras.utils import load_qmodel"
   ]
  },
  {
   "cell_type": "code",
   "execution_count": 9,
   "metadata": {},
   "outputs": [
    {
     "name": "stdout",
     "output_type": "stream",
     "text": [
      "WARNING:tensorflow:Looks like there is an object (perhaps variable or layer) that is shared between different layers/models. This may cause issues when restoring the variable values. Object: quantized_bits(16,4,1,alpha='auto')\n"
     ]
    },
    {
     "name": "stderr",
     "output_type": "stream",
     "text": [
      "2023-02-01 10:00:06.488557: I tensorflow/stream_executor/cuda/cuda_gpu_executor.cc:937] successful NUMA node read from SysFS had negative value (-1), but there must be at least one NUMA node, so returning NUMA node zero\n",
      "2023-02-01 10:00:06.489451: I tensorflow/stream_executor/cuda/cuda_gpu_executor.cc:937] successful NUMA node read from SysFS had negative value (-1), but there must be at least one NUMA node, so returning NUMA node zero\n",
      "2023-02-01 10:00:06.527583: I tensorflow/stream_executor/cuda/cuda_gpu_executor.cc:937] successful NUMA node read from SysFS had negative value (-1), but there must be at least one NUMA node, so returning NUMA node zero\n",
      "2023-02-01 10:00:06.528063: I tensorflow/stream_executor/cuda/cuda_gpu_executor.cc:937] successful NUMA node read from SysFS had negative value (-1), but there must be at least one NUMA node, so returning NUMA node zero\n",
      "2023-02-01 10:00:06.528497: I tensorflow/stream_executor/cuda/cuda_gpu_executor.cc:937] successful NUMA node read from SysFS had negative value (-1), but there must be at least one NUMA node, so returning NUMA node zero\n",
      "2023-02-01 10:00:06.528920: I tensorflow/stream_executor/cuda/cuda_gpu_executor.cc:937] successful NUMA node read from SysFS had negative value (-1), but there must be at least one NUMA node, so returning NUMA node zero\n",
      "2023-02-01 10:00:06.529651: I tensorflow/core/platform/cpu_feature_guard.cc:142] This TensorFlow binary is optimized with oneAPI Deep Neural Network Library (oneDNN) to use the following CPU instructions in performance-critical operations:  SSE4.1 SSE4.2 AVX AVX2 FMA\n",
      "To enable them in other operations, rebuild TensorFlow with the appropriate compiler flags.\n",
      "2023-02-01 10:00:06.816635: I tensorflow/stream_executor/cuda/cuda_gpu_executor.cc:937] successful NUMA node read from SysFS had negative value (-1), but there must be at least one NUMA node, so returning NUMA node zero\n",
      "2023-02-01 10:00:06.817080: I tensorflow/stream_executor/cuda/cuda_gpu_executor.cc:937] successful NUMA node read from SysFS had negative value (-1), but there must be at least one NUMA node, so returning NUMA node zero\n",
      "2023-02-01 10:00:06.817488: I tensorflow/stream_executor/cuda/cuda_gpu_executor.cc:937] successful NUMA node read from SysFS had negative value (-1), but there must be at least one NUMA node, so returning NUMA node zero\n",
      "2023-02-01 10:00:06.817874: I tensorflow/stream_executor/cuda/cuda_gpu_executor.cc:937] successful NUMA node read from SysFS had negative value (-1), but there must be at least one NUMA node, so returning NUMA node zero\n",
      "2023-02-01 10:00:06.818262: I tensorflow/stream_executor/cuda/cuda_gpu_executor.cc:937] successful NUMA node read from SysFS had negative value (-1), but there must be at least one NUMA node, so returning NUMA node zero\n",
      "2023-02-01 10:00:06.818650: I tensorflow/stream_executor/cuda/cuda_gpu_executor.cc:937] successful NUMA node read from SysFS had negative value (-1), but there must be at least one NUMA node, so returning NUMA node zero\n",
      "2023-02-01 10:00:07.440150: I tensorflow/stream_executor/cuda/cuda_gpu_executor.cc:937] successful NUMA node read from SysFS had negative value (-1), but there must be at least one NUMA node, so returning NUMA node zero\n",
      "2023-02-01 10:00:07.440637: I tensorflow/stream_executor/cuda/cuda_gpu_executor.cc:937] successful NUMA node read from SysFS had negative value (-1), but there must be at least one NUMA node, so returning NUMA node zero\n",
      "2023-02-01 10:00:07.441032: I tensorflow/stream_executor/cuda/cuda_gpu_executor.cc:937] successful NUMA node read from SysFS had negative value (-1), but there must be at least one NUMA node, so returning NUMA node zero\n",
      "2023-02-01 10:00:07.441424: I tensorflow/stream_executor/cuda/cuda_gpu_executor.cc:937] successful NUMA node read from SysFS had negative value (-1), but there must be at least one NUMA node, so returning NUMA node zero\n",
      "2023-02-01 10:00:07.441810: I tensorflow/stream_executor/cuda/cuda_gpu_executor.cc:937] successful NUMA node read from SysFS had negative value (-1), but there must be at least one NUMA node, so returning NUMA node zero\n",
      "2023-02-01 10:00:07.442180: I tensorflow/core/common_runtime/gpu/gpu_device.cc:1510] Created device /job:localhost/replica:0/task:0/device:GPU:0 with 9622 MB memory:  -> device: 0, name: GeForce RTX 2080 Ti, pci bus id: 0000:01:00.0, compute capability: 7.5\n",
      "2023-02-01 10:00:07.442425: I tensorflow/stream_executor/cuda/cuda_gpu_executor.cc:937] successful NUMA node read from SysFS had negative value (-1), but there must be at least one NUMA node, so returning NUMA node zero\n",
      "2023-02-01 10:00:07.442778: I tensorflow/core/common_runtime/gpu/gpu_device.cc:1510] Created device /job:localhost/replica:0/task:0/device:GPU:1 with 9640 MB memory:  -> device: 1, name: GeForce RTX 2080 Ti, pci bus id: 0000:03:00.0, compute capability: 7.5\n",
      "WARNING:tensorflow:Looks like there is an object (perhaps variable or layer) that is shared between different layers/models. This may cause issues when restoring the variable values. Object: quantized_bits(16,4,1,alpha='auto')\n"
     ]
    },
    {
     "name": "stdout",
     "output_type": "stream",
     "text": [
      "WARNING:tensorflow:Looks like there is an object (perhaps variable or layer) that is shared between different layers/models. This may cause issues when restoring the variable values. Object: quantized_bits(16,4,1,alpha='auto')\n"
     ]
    },
    {
     "name": "stderr",
     "output_type": "stream",
     "text": [
      "WARNING:tensorflow:Looks like there is an object (perhaps variable or layer) that is shared between different layers/models. This may cause issues when restoring the variable values. Object: quantized_bits(16,4,1,alpha='auto')\n"
     ]
    },
    {
     "name": "stdout",
     "output_type": "stream",
     "text": [
      "WARNING:tensorflow:Looks like there is an object (perhaps variable or layer) that is shared between different layers/models. This may cause issues when restoring the variable values. Object: quantized_bits(16,4,1,alpha='auto')\n"
     ]
    },
    {
     "name": "stderr",
     "output_type": "stream",
     "text": [
      "WARNING:tensorflow:Looks like there is an object (perhaps variable or layer) that is shared between different layers/models. This may cause issues when restoring the variable values. Object: quantized_bits(16,4,1,alpha='auto')\n"
     ]
    },
    {
     "name": "stdout",
     "output_type": "stream",
     "text": [
      "WARNING:tensorflow:Looks like there is an object (perhaps variable or layer) that is shared between different layers/models. This may cause issues when restoring the variable values. Object: quantized_bits(16,4,1,alpha='auto')\n"
     ]
    },
    {
     "name": "stderr",
     "output_type": "stream",
     "text": [
      "WARNING:tensorflow:Looks like there is an object (perhaps variable or layer) that is shared between different layers/models. This may cause issues when restoring the variable values. Object: quantized_bits(16,4,1,alpha='auto')\n"
     ]
    },
    {
     "name": "stdout",
     "output_type": "stream",
     "text": [
      "WARNING:tensorflow:Looks like there is an object (perhaps variable or layer) that is shared between different layers/models. This may cause issues when restoring the variable values. Object: quantized_bits(16,2,1,alpha='auto')\n"
     ]
    },
    {
     "name": "stderr",
     "output_type": "stream",
     "text": [
      "WARNING:tensorflow:Looks like there is an object (perhaps variable or layer) that is shared between different layers/models. This may cause issues when restoring the variable values. Object: quantized_bits(16,2,1,alpha='auto')\n"
     ]
    },
    {
     "name": "stdout",
     "output_type": "stream",
     "text": [
      "WARNING:tensorflow:Looks like there is an object (perhaps variable or layer) that is shared between different layers/models. This may cause issues when restoring the variable values. Object: quantized_bits(16,2,1,alpha='auto')\n"
     ]
    },
    {
     "name": "stderr",
     "output_type": "stream",
     "text": [
      "WARNING:tensorflow:Looks like there is an object (perhaps variable or layer) that is shared between different layers/models. This may cause issues when restoring the variable values. Object: quantized_bits(16,2,1,alpha='auto')\n"
     ]
    },
    {
     "name": "stdout",
     "output_type": "stream",
     "text": [
      "WARNING:tensorflow:Inconsistent references when loading the checkpoint into this object graph. Either the Trackable object references in the Python program have changed in an incompatible way, or the checkpoint was generated in an incompatible program.\n",
      "\n",
      "Two checkpoint references resolved to different objects ({'class_name': 'quantized_bits', 'config': DictWrapper({'bits': 16, 'integer': 4, 'symmetric': True, 'alpha': 'auto', 'keep_negative': True, 'use_stochastic_rounding': False, 'qnoise_factor': 1.0}), 'shared_object_id': 2} and quantized_bits(16,4,1,alpha='auto')).\n"
     ]
    },
    {
     "name": "stderr",
     "output_type": "stream",
     "text": [
      "WARNING:tensorflow:Inconsistent references when loading the checkpoint into this object graph. Either the Trackable object references in the Python program have changed in an incompatible way, or the checkpoint was generated in an incompatible program.\n",
      "\n",
      "Two checkpoint references resolved to different objects ({'class_name': 'quantized_bits', 'config': DictWrapper({'bits': 16, 'integer': 4, 'symmetric': True, 'alpha': 'auto', 'keep_negative': True, 'use_stochastic_rounding': False, 'qnoise_factor': 1.0}), 'shared_object_id': 2} and quantized_bits(16,4,1,alpha='auto')).\n"
     ]
    },
    {
     "name": "stdout",
     "output_type": "stream",
     "text": [
      "WARNING:tensorflow:Inconsistent references when loading the checkpoint into this object graph. Either the Trackable object references in the Python program have changed in an incompatible way, or the checkpoint was generated in an incompatible program.\n",
      "\n",
      "Two checkpoint references resolved to different objects ({'class_name': 'quantized_bits', 'config': DictWrapper({'bits': 16, 'integer': 4, 'symmetric': True, 'alpha': 'auto', 'keep_negative': True, 'use_stochastic_rounding': False, 'qnoise_factor': 1.0}), 'shared_object_id': 9} and quantized_bits(16,4,1,alpha='auto')).\n"
     ]
    },
    {
     "name": "stderr",
     "output_type": "stream",
     "text": [
      "WARNING:tensorflow:Inconsistent references when loading the checkpoint into this object graph. Either the Trackable object references in the Python program have changed in an incompatible way, or the checkpoint was generated in an incompatible program.\n",
      "\n",
      "Two checkpoint references resolved to different objects ({'class_name': 'quantized_bits', 'config': DictWrapper({'bits': 16, 'integer': 4, 'symmetric': True, 'alpha': 'auto', 'keep_negative': True, 'use_stochastic_rounding': False, 'qnoise_factor': 1.0}), 'shared_object_id': 9} and quantized_bits(16,4,1,alpha='auto')).\n"
     ]
    },
    {
     "name": "stdout",
     "output_type": "stream",
     "text": [
      "WARNING:tensorflow:Inconsistent references when loading the checkpoint into this object graph. Either the Trackable object references in the Python program have changed in an incompatible way, or the checkpoint was generated in an incompatible program.\n",
      "\n",
      "Two checkpoint references resolved to different objects ({'class_name': 'quantized_bits', 'config': DictWrapper({'bits': 16, 'integer': 2, 'symmetric': True, 'alpha': 'auto', 'keep_negative': True, 'use_stochastic_rounding': False, 'qnoise_factor': 1.0}), 'shared_object_id': 15} and quantized_bits(16,2,1,alpha='auto')).\n"
     ]
    },
    {
     "name": "stderr",
     "output_type": "stream",
     "text": [
      "WARNING:tensorflow:Inconsistent references when loading the checkpoint into this object graph. Either the Trackable object references in the Python program have changed in an incompatible way, or the checkpoint was generated in an incompatible program.\n",
      "\n",
      "Two checkpoint references resolved to different objects ({'class_name': 'quantized_bits', 'config': DictWrapper({'bits': 16, 'integer': 2, 'symmetric': True, 'alpha': 'auto', 'keep_negative': True, 'use_stochastic_rounding': False, 'qnoise_factor': 1.0}), 'shared_object_id': 15} and quantized_bits(16,2,1,alpha='auto')).\n"
     ]
    },
    {
     "name": "stdout",
     "output_type": "stream",
     "text": [
      "WARNING:tensorflow:Inconsistent references when loading the checkpoint into this object graph. Either the Trackable object references in the Python program have changed in an incompatible way, or the checkpoint was generated in an incompatible program.\n",
      "\n",
      "Two checkpoint references resolved to different objects ({'class_name': 'quantized_bits', 'config': DictWrapper({'bits': 16, 'integer': 4, 'symmetric': True, 'alpha': 'auto', 'keep_negative': True, 'use_stochastic_rounding': False, 'qnoise_factor': 1.0}), 'shared_object_id': 2} and quantized_bits(16,4,1,alpha='auto')).\n"
     ]
    },
    {
     "name": "stderr",
     "output_type": "stream",
     "text": [
      "WARNING:tensorflow:Inconsistent references when loading the checkpoint into this object graph. Either the Trackable object references in the Python program have changed in an incompatible way, or the checkpoint was generated in an incompatible program.\n",
      "\n",
      "Two checkpoint references resolved to different objects ({'class_name': 'quantized_bits', 'config': DictWrapper({'bits': 16, 'integer': 4, 'symmetric': True, 'alpha': 'auto', 'keep_negative': True, 'use_stochastic_rounding': False, 'qnoise_factor': 1.0}), 'shared_object_id': 2} and quantized_bits(16,4,1,alpha='auto')).\n"
     ]
    },
    {
     "name": "stdout",
     "output_type": "stream",
     "text": [
      "WARNING:tensorflow:Inconsistent references when loading the checkpoint into this object graph. Either the Trackable object references in the Python program have changed in an incompatible way, or the checkpoint was generated in an incompatible program.\n",
      "\n",
      "Two checkpoint references resolved to different objects ({'class_name': 'quantized_bits', 'config': DictWrapper({'bits': 16, 'integer': 4, 'symmetric': True, 'alpha': 'auto', 'keep_negative': True, 'use_stochastic_rounding': False, 'qnoise_factor': 1.0}), 'shared_object_id': 9} and quantized_bits(16,4,1,alpha='auto')).\n"
     ]
    },
    {
     "name": "stderr",
     "output_type": "stream",
     "text": [
      "WARNING:tensorflow:Inconsistent references when loading the checkpoint into this object graph. Either the Trackable object references in the Python program have changed in an incompatible way, or the checkpoint was generated in an incompatible program.\n",
      "\n",
      "Two checkpoint references resolved to different objects ({'class_name': 'quantized_bits', 'config': DictWrapper({'bits': 16, 'integer': 4, 'symmetric': True, 'alpha': 'auto', 'keep_negative': True, 'use_stochastic_rounding': False, 'qnoise_factor': 1.0}), 'shared_object_id': 9} and quantized_bits(16,4,1,alpha='auto')).\n"
     ]
    },
    {
     "name": "stdout",
     "output_type": "stream",
     "text": [
      "WARNING:tensorflow:Inconsistent references when loading the checkpoint into this object graph. Either the Trackable object references in the Python program have changed in an incompatible way, or the checkpoint was generated in an incompatible program.\n",
      "\n",
      "Two checkpoint references resolved to different objects ({'class_name': 'quantized_bits', 'config': DictWrapper({'bits': 16, 'integer': 2, 'symmetric': True, 'alpha': 'auto', 'keep_negative': True, 'use_stochastic_rounding': False, 'qnoise_factor': 1.0}), 'shared_object_id': 15} and quantized_bits(16,2,1,alpha='auto')).\n"
     ]
    },
    {
     "name": "stderr",
     "output_type": "stream",
     "text": [
      "WARNING:tensorflow:Inconsistent references when loading the checkpoint into this object graph. Either the Trackable object references in the Python program have changed in an incompatible way, or the checkpoint was generated in an incompatible program.\n",
      "\n",
      "Two checkpoint references resolved to different objects ({'class_name': 'quantized_bits', 'config': DictWrapper({'bits': 16, 'integer': 2, 'symmetric': True, 'alpha': 'auto', 'keep_negative': True, 'use_stochastic_rounding': False, 'qnoise_factor': 1.0}), 'shared_object_id': 15} and quantized_bits(16,2,1,alpha='auto')).\n"
     ]
    }
   ],
   "source": [
    "model = load_qmodel('./ML_CMSL1CaloTrigger/saved_models/qmodel_oct24');\n",
    "model.summary()"
   ]
  },
  {
   "cell_type": "code",
   "execution_count": 617,
   "metadata": {},
   "outputs": [
    {
     "name": "stdout",
     "output_type": "stream",
     "text": [
      "Interpreting Model\n",
      "Topology:\n",
      "Layer name: In, layer type: Input\n",
      "Layer name: conv, layer type: QConv2D\n",
      "  -> Activation (linear), layer name: conv\n",
      "Layer name: relu1, layer type: QActivation\n",
      "  -> Activation (quantized_relu(16,4)), layer name: relu1\n",
      "Layer name: dense1, layer type: QDense\n",
      "  -> Activation (linear), layer name: dense1\n",
      "Layer name: relu2, layer type: QActivation\n",
      "  -> Activation (quantized_relu(16,4)), layer name: relu2\n",
      "Layer name: output, layer type: QDense\n",
      "  -> Activation (linear), layer name: output\n"
     ]
    }
   ],
   "source": [
    "hls4ml.model.optimizer.get_optimizer(\n",
    "    'output_rounding_saturation_mode'\n",
    ").configure(\n",
    "    layers=['relu1', 'relu2'],\n",
    "    rounding_mode='AP_RND',\n",
    "    saturation_mode='AP_SAT',\n",
    "    saturation_bits='AP_SAT'\n",
    ")\n",
    "hls4ml.model.optimizer.get_optimizer(\n",
    "    'eliminate_linear_activation'\n",
    ")\n",
    "\n",
    "hls_config = hls4ml.utils.config_from_keras_model(model, granularity='name')\n",
    "\n",
    "hls_config['Model']['ReuseFactor'] = 4\n",
    "hls_config['Model']['Strategy'] = 'Resource'\n",
    "hls_config['Model']['ClockPeriod']  = 6.25\n",
    "hls_config['Model']['Precision'] = 'ap_fixed<16, 6>'\n",
    "# hls_config['Model']['Trace']  = True\n",
    "\n",
    "for layer in hls_config['LayerName'].keys():\n",
    "    hls_config['LayerName'][Layer]['Strategy'] = 'Resource'\n",
    "    hls_config['LayerName'][Layer]['ReuseFactor'] = 4\n",
    "    # hls_config['LayerName'][Layer]['Trace'] = True\n",
    "    \n",
    "    if Layer == 'In':\n",
    "        hls_config['LayerName'][layer]['Precision']['accum'] = 'ap_ufixed<10, 10>'\n",
    "        hls_config['LayerName'][layer]['Precision']['result'] = 'ap_ufixed<10, 10>'\n",
    "\n",
    "    if Layer == 'conv':\n",
    "        hls_config['LayerName'][layer]['Precision']['accum'] = 'ap_fixed<20, 17>'\n",
    "        hls_config['LayerName'][layer]['Precision']['result'] = 'ap_fixed<20, 17>'\n",
    "        hls_config['LayerName'][layer]['Strategy'] = 'Resource'\n",
    "        hls_config['LayerName'][layer]['ReuseFactor'] = 1\n",
    "        hls_config['LayerName'][layer]['ParallelizationFactor'] = 8\n",
    "\n",
    "    if Layer == 'conv_linear':\n",
    "        hls_config['LayerName'][layer]['Precision'] = 'ap_fixed<17, 8>'\n",
    "\n",
    "    if Layer == 'dense1':\n",
    "        hls_config['LayerName'][layer]['Precision']['accum'] = 'ap_fixed<19, 12>'\n",
    "        hls_config['LayerName'][layer]['Precision']['result'] = 'ap_fixed<19, 12>'\n",
    "\n",
    "    if Layer == 'dense1_linear':\n",
    "        hls_config['LayerName'][layer]['Precision'] = 'ap_fixed<17, 8>'\n",
    "\n",
    "    if Layer == 'output':\n",
    "        hls_config['LayerName'][layer]['Precision']['accum'] = 'ap_fixed<17, 9>'\n",
    "        hls_config['LayerName'][layer]['Precision']['result'] = 'ap_fixed<17, 9>'\n",
    "\n",
    "    if Layer == 'output_linear':\n",
    "        hls_config['LayerName'][layer]['Precision'] = 'ap_ufixed<13, 7>'\n",
    "\n",
    "hls_config['LayerName']['conv_alpha'] = {}\n",
    "hls_config['LayerName']['conv_alpha']['Precision'] = {}\n",
    "hls_config['LayerName']['conv_alpha']['Precision']['scale'] = 'ap_fixed<17, 0>'\n",
    "hls_config['LayerName']['conv_alpha']['Precision']['result'] = 'ap_fixed<17, 8>'\n",
    "hls_config['LayerName']['conv_alpha']['Precision']['accum'] = 'ap_fixed<17, 8>'\n",
    "hls_config['LayerName']['conv_alpha']['Precision']['bias'] = 'ap_int<1>'\n",
    "\n",
    "hls_config['LayerName']['dense1_alpha'] = {}\n",
    "hls_config['LayerName']['dense1_alpha']['Precision'] = {}\n",
    "hls_config['LayerName']['dense1_alpha']['Precision']['scale'] = 'ap_fixed<14, 0>'\n",
    "hls_config['LayerName']['dense1_alpha']['Precision']['result'] = 'ap_fixed<17, 8>'\n",
    "hls_config['LayerName']['dense1_alpha']['Precision']['accum'] = 'ap_fixed<17, 8>'\n",
    "hls_config['LayerName']['dense1_alpha']['Precision']['bias'] = 'ap_int<1>'\n",
    "\n",
    "hls_config['LayerName']['output_alpha'] = {}\n",
    "hls_config['LayerName']['output_alpha']['Precision'] = {}\n",
    "hls_config['LayerName']['output_alpha']['Precision']['scale'] = 'ap_fixed<8, 0>'\n",
    "hls_config['LayerName']['output_alpha']['Precision']['result'] = 'ap_ufixed<13, 7>'\n",
    "hls_config['LayerName']['output_alpha']['Precision']['accum'] = 'ap_fixed<14, 7>'\n",
    "hls_config['LayerName']['output_alpha']['Precision']['bias'] = 'ap_int<1>'\n",
    "\n",
    "cfg = hls4ml.converters.create_config(part=\"xc7vx690tffg1927-2\")\n",
    "cfg['IOType'] = 'io_parallel'\n",
    "cfg['HLSConfig'] = hls_config\n",
    "cfg['KerasModel'] = model\n",
    "cfg['ClockPeriod']  = 6.25\n",
    "cfg['OutputDir']  = 'cicada/'\n",
    "cfg['Part'] = 'xc7vx690tffg1927-2'"
   ]
  },
  {
   "cell_type": "code",
   "execution_count": 618,
   "metadata": {},
   "outputs": [
    {
     "name": "stdout",
     "output_type": "stream",
     "text": [
      "Interpreting Model\n",
      "Topology:\n",
      "Layer name: In, layer type: InputLayer, input shapes: [[None, 252]], output shape: [None, 252]\n",
      "Layer name: reshape, layer type: Reshape, input shapes: [[None, 252]], output shape: [None, 18, 14, 1]\n",
      "Layer name: conv, layer type: QConv2D, input shapes: [[None, 18, 14, 1]], output shape: [None, 8, 6, 3]\n",
      "Layer name: relu1, layer type: Activation, input shapes: [[None, 8, 6, 3]], output shape: [None, 8, 6, 3]\n",
      "Layer name: flatten, layer type: Reshape, input shapes: [[None, 8, 6, 3]], output shape: [None, 144]\n",
      "Layer name: dense1, layer type: QDense, input shapes: [[None, 144]], output shape: [None, 20]\n",
      "Layer name: relu2, layer type: Activation, input shapes: [[None, 20]], output shape: [None, 20]\n",
      "Layer name: output, layer type: QDense, input shapes: [[None, 20]], output shape: [None, 1]\n",
      "Creating HLS model\n",
      "quant None\n",
      "quant None\n",
      "quant None\n",
      "Writing HLS project\n",
      "Done\n"
     ]
    }
   ],
   "source": [
    "hls_model = hls4ml.converters.keras_to_hls(cfg)\n",
    "hls4ml.model.optimizer.get_optimizer(\n",
    "    'output_rounding_saturation_mode'\n",
    ").configure(layers=[])\n",
    "hls_model.compile()"
   ]
  },
  {
   "cell_type": "code",
   "execution_count": 590,
   "metadata": {},
   "outputs": [],
   "source": [
    "# hls4ml.utils.plot_model(hls_model, show_shapes=False, show_precision=True, to_file=None)"
   ]
  },
  {
   "cell_type": "code",
   "execution_count": 591,
   "metadata": {},
   "outputs": [],
   "source": [
    "# hls4ml.model.profiling.numerical(model=model, hls_model=hls_model)"
   ]
  },
  {
   "cell_type": "markdown",
   "metadata": {},
   "source": [
    "# Test vectors: check the output"
   ]
  },
  {
   "cell_type": "code",
   "execution_count": 45,
   "metadata": {},
   "outputs": [],
   "source": [
    "# Test vector, zeros:\n",
    "test_vector_b = np.zeros((1, 252)) + 0.\n",
    "\n",
    "# Test vector, mean zero bias, 2018 run D:\n",
    "test_vector_c = np.array([[2, 1, 1, 2, 1, 2, 3, 3, 3, 2, 3, 1, 1, 2],\n",
    "       [2, 1, 1, 2, 2, 2, 3, 3, 2, 2, 3, 1, 1, 2],\n",
    "       [2, 1, 1, 1, 2, 2, 3, 3, 2, 2, 3, 1, 1, 2],\n",
    "       [2, 1, 1, 2, 1, 2, 3, 3, 2, 1, 2, 1, 1, 2],\n",
    "       [2, 1, 1, 2, 2, 2, 3, 4, 3, 2, 4, 1, 1, 2],\n",
    "       [2, 1, 1, 2, 2, 2, 3, 3, 2, 2, 2, 1, 1, 2],\n",
    "       [2, 1, 1, 3, 2, 3, 5, 2, 2, 1, 3, 1, 1, 2],\n",
    "       [2, 1, 1, 2, 2, 3, 4, 3, 2, 2, 2, 1, 1, 3],\n",
    "       [2, 1, 1, 2, 2, 3, 4, 3, 2, 1, 2, 1, 1, 3],\n",
    "       [2, 1, 1, 2, 2, 2, 3, 3, 2, 1, 2, 1, 1, 2],\n",
    "       [2, 1, 1, 2, 2, 2, 3, 3, 2, 1, 2, 1, 1, 2],\n",
    "       [2, 1, 1, 2, 2, 2, 3, 3, 2, 1, 2, 1, 1, 2],\n",
    "       [2, 1, 1, 2, 2, 2, 3, 3, 2, 1, 3, 1, 1, 2],\n",
    "       [2, 1, 1, 2, 2, 2, 3, 3, 2, 1, 2, 1, 1, 2],\n",
    "       [0, 0, 0, 2, 2, 2, 3, 3, 2, 2, 2, 1, 1, 2],\n",
    "       [0, 0, 0, 3, 2, 3, 5, 4, 3, 2, 4, 1, 1, 2],\n",
    "       [2, 1, 1, 2, 2, 2, 4, 3, 2, 2, 4, 1, 1, 2],\n",
    "       [2, 1, 1, 2, 2, 2, 3, 3, 2, 1, 3, 1, 1, 2]]).reshape(1, 252) + 0.\n",
    "\n",
    "# Test vector, signal haa4b_ma15_powheg:\n",
    "test_vector_d = np.array([[8, 2, 2, 3, 3, 3, 3, 3, 3, 3, 3, 2, 2, 8],\n",
    "       [9, 2, 2, 3, 3, 3, 3, 3, 3, 2, 3, 2, 2, 9],\n",
    "       [9, 2, 2, 3, 2, 3, 3, 3, 3, 3, 3, 2, 2, 9],\n",
    "       [9, 2, 2, 3, 3, 3, 3, 3, 3, 3, 3, 2, 2, 9],\n",
    "       [8, 2, 2, 3, 3, 3, 3, 3, 3, 3, 3, 2, 2, 8],\n",
    "       [8, 2, 2, 3, 2, 3, 3, 3, 3, 3, 3, 2, 2, 8],\n",
    "       [9, 2, 2, 3, 3, 3, 3, 3, 3, 3, 3, 2, 2, 9],\n",
    "       [9, 2, 2, 3, 3, 3, 3, 3, 3, 2, 3, 2, 2, 9],\n",
    "       [9, 2, 2, 3, 3, 3, 3, 3, 3, 2, 3, 2, 2, 8],\n",
    "       [8, 2, 2, 3, 3, 3, 3, 3, 3, 2, 3, 2, 2, 8],\n",
    "       [9, 2, 2, 3, 3, 3, 3, 3, 3, 2, 3, 2, 2, 8],\n",
    "       [9, 2, 2, 3, 2, 3, 3, 3, 3, 3, 3, 2, 2, 9],\n",
    "       [9, 2, 2, 3, 2, 3, 3, 3, 3, 2, 3, 2, 2, 9],\n",
    "       [8, 2, 2, 3, 3, 3, 3, 3, 3, 3, 3, 2, 2, 8],\n",
    "       [8, 2, 2, 3, 3, 3, 3, 3, 3, 2, 3, 2, 2, 8],\n",
    "       [9, 2, 2, 3, 3, 3, 3, 3, 3, 3, 3, 2, 2, 9],\n",
    "       [9, 2, 2, 3, 3, 3, 3, 3, 3, 3, 3, 2, 2, 9],\n",
    "       [8, 2, 2, 3, 2, 3, 3, 3, 3, 2, 3, 2, 2, 8]]).reshape(1, 252) + 0.\n",
    "\n",
    "# Test vector, mean zero bias, 2018 run D:\n",
    "test_vector_e = np.array([[2, 1, 1, 2, 1, 2, 3, 3, 3, 2, 3, 1, 1, 2],\n",
    "       [2, 1, 1, 2, 2, 2, 3, 3, 2, 2, 3, 1, 1, 2],\n",
    "       [2, 1, 1, 1, 2, 2, 1023, 3, 2, 2, 3, 1, 1, 2],\n",
    "       [2, 1, 1, 2, 1, 2, 3, 3, 2, 1, 2, 1, 1, 2],\n",
    "       [2, 1, 1, 1023, 1023, 2, 3, 4, 3, 2, 4, 1023, 1, 2],\n",
    "       [2, 1, 1023, 1023, 2, 2, 3, 3, 2, 2, 2, 1, 1, 2],\n",
    "       [2, 1, 1, 3, 2, 3, 5, 2, 2, 1, 3, 1023, 1, 2],\n",
    "       [2, 1, 1, 2, 2, 3, 4, 3, 2, 2, 2, 1, 1, 3],\n",
    "       [2, 1, 1, 2, 2, 3, 4, 3, 2, 1, 2, 1, 1, 3],\n",
    "       [2, 1, 1, 2, 2, 2, 3, 3, 1023, 1, 2, 1, 1, 2],\n",
    "       [2, 1, 1, 1023, 2, 2, 3, 3, 2, 1, 2, 1, 1, 2],\n",
    "       [2, 1, 1, 2, 2, 2, 3, 3, 2, 1, 2, 1, 1, 2],\n",
    "       [2, 1, 1, 2, 2, 2, 3, 3, 2, 1, 3, 1, 1, 2],\n",
    "       [2, 1, 1, 2, 1023, 2, 3, 3, 2, 1, 2, 1, 1, 2],\n",
    "       [0, 1023, 0, 2, 2, 2, 3, 3, 2, 2, 2, 1, 1, 2],\n",
    "       [0, 0, 0, 3, 2, 3, 5, 4, 3, 2, 4, 1, 1, 2],\n",
    "       [2, 1, 1, 2, 2, 2, 4, 3, 2, 2, 1023, 1, 1, 2],\n",
    "       [2, 1023, 1, 2, 2, 2, 3, 3, 2, 1, 3, 1, 1, 2]]).reshape(1, 252) + 0."
   ]
  },
  {
   "cell_type": "code",
   "execution_count": 619,
   "metadata": {},
   "outputs": [
    {
     "data": {
      "text/plain": [
       "array([[ True]])"
      ]
     },
     "execution_count": 619,
     "metadata": {},
     "output_type": "execute_result"
    }
   ],
   "source": [
    "abs(model.predict(test_vector_b) - hls_model.predict(test_vector_b)) < 0.5"
   ]
  },
  {
   "cell_type": "code",
   "execution_count": 620,
   "metadata": {},
   "outputs": [
    {
     "data": {
      "text/plain": [
       "array([[ True]])"
      ]
     },
     "execution_count": 620,
     "metadata": {},
     "output_type": "execute_result"
    }
   ],
   "source": [
    "abs(model.predict(test_vector_b+1) - hls_model.predict(test_vector_b+1))  < 0.5"
   ]
  },
  {
   "cell_type": "code",
   "execution_count": 621,
   "metadata": {},
   "outputs": [
    {
     "data": {
      "text/plain": [
       "array([[ True]])"
      ]
     },
     "execution_count": 621,
     "metadata": {},
     "output_type": "execute_result"
    }
   ],
   "source": [
    "abs(model.predict(test_vector_c) - hls_model.predict(test_vector_c)) < 0.5"
   ]
  },
  {
   "cell_type": "code",
   "execution_count": 622,
   "metadata": {},
   "outputs": [
    {
     "data": {
      "text/plain": [
       "array([[ True]])"
      ]
     },
     "execution_count": 622,
     "metadata": {},
     "output_type": "execute_result"
    }
   ],
   "source": [
    "abs(model.predict(test_vector_d) - hls_model.predict(test_vector_d)) < 0.5"
   ]
  },
  {
   "cell_type": "code",
   "execution_count": 623,
   "metadata": {},
   "outputs": [
    {
     "data": {
      "text/plain": [
       "(0.4959068298339844, 2814)"
      ]
     },
     "execution_count": 623,
     "metadata": {},
     "output_type": "execute_result"
    }
   ],
   "source": [
    "datasets = ['/eos/user/a/adpol/L1AD/Signal/120X/haa4taus_ma15_powheg.h5',\n",
    "            '/eos/user/a/adpol/L1AD/Signal/120X/haa4b_ma50_powheg.h5',\n",
    "            '/eos/user/a/adpol/L1AD/Signal/120X/emj-mMed-800-mDark-10-ctau-1000.h5']\n",
    "\n",
    "for dataset in datasets:\n",
    "    X_test = h5py.File(dataset,'r')['CaloRegions']\n",
    "    max_diff = 0\n",
    "    m_idx = -1\n",
    "    for idx in range(4000):\n",
    "        vector = X_test[idx].reshape(1, 252) + 0.\n",
    "        diff = abs(float(model.predict(vector) - hls_model.predict(vector)))\n",
    "        if max_diff < diff:\n",
    "            max_diff = diff\n",
    "            m_idx = i\n",
    "        if diff > 0.5:\n",
    "            print('Error', diff)\n",
    "            print()\n",
    "            print(dataset)\n",
    "            print(i)\n",
    "            break\n",
    "m_diff, m_i"
   ]
  },
  {
   "cell_type": "markdown",
   "metadata": {},
   "source": [
    "# Debug"
   ]
  },
  {
   "cell_type": "code",
   "execution_count": 267,
   "metadata": {},
   "outputs": [
    {
     "data": {
      "text/plain": [
       "(array([[41.371735]], dtype=float32), array([41.25]))"
      ]
     },
     "execution_count": 267,
     "metadata": {},
     "output_type": "execute_result"
    }
   ],
   "source": [
    "model.predict(x[12].reshape(1, 252) + 0.), hls_model.predict(x[12].reshape(1, 252) + 0.)"
   ]
  },
  {
   "cell_type": "code",
   "execution_count": 261,
   "metadata": {},
   "outputs": [
    {
     "name": "stdout",
     "output_type": "stream",
     "text": [
      "Recompiling myproject with tracing\n",
      "Writing HLS project\n",
      "Done\n",
      "Processing In in Keras model...\n",
      "Processing reshape in Keras model...\n",
      "Processing conv in Keras model...\n",
      "Processing relu1 in Keras model...\n",
      "Processing flatten in Keras model...\n",
      "Processing dense1 in Keras model...\n",
      "Processing relu2 in Keras model...\n",
      "Processing output in Keras model...\n",
      "Done taking outputs for Keras model.\n"
     ]
    }
   ],
   "source": [
    "tv = x[12].reshape(1, 252) + 0.\n",
    "\n",
    "hls4ml_pred, hls4ml_trace = hls_model.trace(tv)\n",
    "keras_trace = hls4ml.model.profiling.get_ymodel_keras(model, tv)"
   ]
  },
  {
   "cell_type": "code",
   "execution_count": 262,
   "metadata": {},
   "outputs": [
    {
     "data": {
      "text/plain": [
       "array([-40.234375])"
      ]
     },
     "execution_count": 262,
     "metadata": {},
     "output_type": "execute_result"
    }
   ],
   "source": [
    "hls4ml_pred"
   ]
  },
  {
   "cell_type": "code",
   "execution_count": 263,
   "metadata": {},
   "outputs": [
    {
     "data": {
      "text/plain": [
       "{'reshape': array([[[[  0.],\n",
       "          [  0.],\n",
       "          [ 15.],\n",
       "          [  1.],\n",
       "          [  0.],\n",
       "          [110.],\n",
       "          [  2.],\n",
       "          [  8.],\n",
       "          [  1.],\n",
       "          [  2.],\n",
       "          [  0.],\n",
       "          [  0.],\n",
       "          [  2.],\n",
       "          [ 16.]],\n",
       " \n",
       "         [[  0.],\n",
       "          [  1.],\n",
       "          [  0.],\n",
       "          [  0.],\n",
       "          [  0.],\n",
       "          [  1.],\n",
       "          [  1.],\n",
       "          [  4.],\n",
       "          [  4.],\n",
       "          [  0.],\n",
       "          [  0.],\n",
       "          [  0.],\n",
       "          [  4.],\n",
       "          [  2.]],\n",
       " \n",
       "         [[  2.],\n",
       "          [  2.],\n",
       "          [  2.],\n",
       "          [  2.],\n",
       "          [  1.],\n",
       "          [  0.],\n",
       "          [115.],\n",
       "          [ 13.],\n",
       "          [ 24.],\n",
       "          [ 74.],\n",
       "          [  1.],\n",
       "          [  3.],\n",
       "          [  0.],\n",
       "          [  2.]],\n",
       " \n",
       "         [[  0.],\n",
       "          [  0.],\n",
       "          [  0.],\n",
       "          [  1.],\n",
       "          [  9.],\n",
       "          [  6.],\n",
       "          [ 16.],\n",
       "          [ 10.],\n",
       "          [  0.],\n",
       "          [  2.],\n",
       "          [  1.],\n",
       "          [  1.],\n",
       "          [  0.],\n",
       "          [  0.]],\n",
       " \n",
       "         [[  0.],\n",
       "          [  1.],\n",
       "          [  2.],\n",
       "          [  0.],\n",
       "          [  0.],\n",
       "          [  1.],\n",
       "          [  4.],\n",
       "          [  1.],\n",
       "          [  1.],\n",
       "          [  0.],\n",
       "          [  0.],\n",
       "          [  1.],\n",
       "          [  1.],\n",
       "          [  0.]],\n",
       " \n",
       "         [[  0.],\n",
       "          [  0.],\n",
       "          [  3.],\n",
       "          [  0.],\n",
       "          [  0.],\n",
       "          [  1.],\n",
       "          [  1.],\n",
       "          [  1.],\n",
       "          [  5.],\n",
       "          [  3.],\n",
       "          [  0.],\n",
       "          [  0.],\n",
       "          [  0.],\n",
       "          [  2.]],\n",
       " \n",
       "         [[  8.],\n",
       "          [  0.],\n",
       "          [  0.],\n",
       "          [  0.],\n",
       "          [ 14.],\n",
       "          [  3.],\n",
       "          [  1.],\n",
       "          [  1.],\n",
       "          [ 37.],\n",
       "          [738.],\n",
       "          [  1.],\n",
       "          [  1.],\n",
       "          [  1.],\n",
       "          [  2.]],\n",
       " \n",
       "         [[  0.],\n",
       "          [  0.],\n",
       "          [  0.],\n",
       "          [ 12.],\n",
       "          [212.],\n",
       "          [ 15.],\n",
       "          [  5.],\n",
       "          [  6.],\n",
       "          [  2.],\n",
       "          [ 16.],\n",
       "          [  0.],\n",
       "          [  0.],\n",
       "          [  0.],\n",
       "          [  0.]],\n",
       " \n",
       "         [[  4.],\n",
       "          [  1.],\n",
       "          [  0.],\n",
       "          [  0.],\n",
       "          [302.],\n",
       "          [  9.],\n",
       "          [  2.],\n",
       "          [  3.],\n",
       "          [  3.],\n",
       "          [  0.],\n",
       "          [  0.],\n",
       "          [  0.],\n",
       "          [  2.],\n",
       "          [  0.]],\n",
       " \n",
       "         [[  2.],\n",
       "          [  0.],\n",
       "          [  1.],\n",
       "          [  2.],\n",
       "          [  4.],\n",
       "          [  1.],\n",
       "          [  9.],\n",
       "          [  2.],\n",
       "          [  3.],\n",
       "          [  0.],\n",
       "          [  1.],\n",
       "          [  1.],\n",
       "          [  1.],\n",
       "          [  0.]],\n",
       " \n",
       "         [[  0.],\n",
       "          [  0.],\n",
       "          [  0.],\n",
       "          [  1.],\n",
       "          [  1.],\n",
       "          [  2.],\n",
       "          [  5.],\n",
       "          [  2.],\n",
       "          [  1.],\n",
       "          [  0.],\n",
       "          [  6.],\n",
       "          [  3.],\n",
       "          [  0.],\n",
       "          [  6.]],\n",
       " \n",
       "         [[  0.],\n",
       "          [  0.],\n",
       "          [  0.],\n",
       "          [  0.],\n",
       "          [  0.],\n",
       "          [  2.],\n",
       "          [  7.],\n",
       "          [  1.],\n",
       "          [  6.],\n",
       "          [  3.],\n",
       "          [  0.],\n",
       "          [ 38.],\n",
       "          [  2.],\n",
       "          [  2.]],\n",
       " \n",
       "         [[  0.],\n",
       "          [  0.],\n",
       "          [  2.],\n",
       "          [  5.],\n",
       "          [  0.],\n",
       "          [ 51.],\n",
       "          [ 18.],\n",
       "          [ 18.],\n",
       "          [  8.],\n",
       "          [  5.],\n",
       "          [ 28.],\n",
       "          [ 10.],\n",
       "          [  1.],\n",
       "          [  0.]],\n",
       " \n",
       "         [[  4.],\n",
       "          [  1.],\n",
       "          [  2.],\n",
       "          [  3.],\n",
       "          [  0.],\n",
       "          [  1.],\n",
       "          [  4.],\n",
       "          [137.],\n",
       "          [ 11.],\n",
       "          [  0.],\n",
       "          [  0.],\n",
       "          [  0.],\n",
       "          [  0.],\n",
       "          [  2.]],\n",
       " \n",
       "         [[  1.],\n",
       "          [  4.],\n",
       "          [  0.],\n",
       "          [  1.],\n",
       "          [  1.],\n",
       "          [  1.],\n",
       "          [  4.],\n",
       "          [ 28.],\n",
       "          [117.],\n",
       "          [  2.],\n",
       "          [  1.],\n",
       "          [  0.],\n",
       "          [  1.],\n",
       "          [  4.]],\n",
       " \n",
       "         [[  0.],\n",
       "          [  2.],\n",
       "          [  0.],\n",
       "          [  7.],\n",
       "          [  0.],\n",
       "          [  0.],\n",
       "          [ 59.],\n",
       "          [ 21.],\n",
       "          [ 17.],\n",
       "          [ 15.],\n",
       "          [  0.],\n",
       "          [  0.],\n",
       "          [  0.],\n",
       "          [  4.]],\n",
       " \n",
       "         [[  0.],\n",
       "          [  1.],\n",
       "          [  0.],\n",
       "          [  0.],\n",
       "          [  1.],\n",
       "          [  3.],\n",
       "          [  1.],\n",
       "          [  2.],\n",
       "          [  1.],\n",
       "          [  1.],\n",
       "          [  1.],\n",
       "          [  1.],\n",
       "          [  0.],\n",
       "          [  4.]],\n",
       " \n",
       "         [[  4.],\n",
       "          [  0.],\n",
       "          [  0.],\n",
       "          [  1.],\n",
       "          [ 46.],\n",
       "          [175.],\n",
       "          [  4.],\n",
       "          [  5.],\n",
       "          [ 83.],\n",
       "          [  0.],\n",
       "          [  3.],\n",
       "          [  1.],\n",
       "          [  3.],\n",
       "          [ 20.]]]], dtype=float32),\n",
       " 'conv': array([[[[ 3.35183114e-01, -2.98387051e-01, -2.43366152e-01],\n",
       "          [ 4.53869343e-01, -5.61701179e-01,  8.52671266e-01],\n",
       "          [ 6.20629740e+00, -1.87858194e-01,  3.71137142e+00],\n",
       "          [ 3.67584825e+00,  1.66860151e+00,  5.42632675e+00],\n",
       "          [ 1.75181305e+00, -9.30266619e-01,  2.48460317e+00],\n",
       "          [ 1.67069763e-01, -1.99684516e-01, -8.58667269e-02]],\n",
       " \n",
       "         [[ 1.92767054e-01, -1.35195121e-01,  1.32830858e-01],\n",
       "          [ 3.90160054e-01, -2.29885474e-01, -1.33951187e-01],\n",
       "          [ 2.45362210e+00, -2.32912064e+00, -2.90248394e+00],\n",
       "          [ 4.36160564e+00, -3.48951316e+00,  5.54968786e+00],\n",
       "          [ 3.44555259e+00,  9.82872725e-01,  2.92140722e+00],\n",
       "          [ 2.35787436e-01,  6.39984384e-02,  1.42505258e-01]],\n",
       " \n",
       "         [[ 2.96250761e-01,  6.03707358e-02,  2.31026858e-01],\n",
       "          [ 3.86596143e-01, -3.34741950e-01,  3.30415845e-01],\n",
       "          [ 5.04108608e-01,  1.59630448e-01,  5.24823487e-01],\n",
       "          [ 9.71292555e-01, -1.15124059e+00,  3.87048692e-01],\n",
       "          [ 1.08860388e+01, -1.43002510e+01,  1.34051647e+01],\n",
       "          [ 1.02610588e-01, -2.00685933e-02,  7.13166893e-02]],\n",
       " \n",
       "         [[ 2.75296926e-01, -2.37801999e-01,  5.63532472e-01],\n",
       "          [ 9.95197010e+00, -1.36852665e+01, -5.36244297e+00],\n",
       "          [ 1.51594534e+01,  1.24921904e+01,  2.16996517e+01],\n",
       "          [ 1.10467780e+00, -4.75778073e-01, -7.29565978e-01],\n",
       "          [ 2.93811970e+01,  1.75889549e+01,  2.01821690e+01],\n",
       "          [ 1.06735468e-01, -8.24057907e-02,  6.68496042e-02]],\n",
       " \n",
       "         [[ 2.15580031e-01, -9.32395384e-02,  2.59420872e-01],\n",
       "          [ 4.16698933e+00, -5.89238501e+00, -6.87040806e+00],\n",
       "          [ 7.48789787e+00, -1.13568869e+01,  1.42077484e+01],\n",
       "          [ 7.93431938e-01,  2.49369547e-01,  5.32378197e-01],\n",
       "          [ 3.14291507e-01, -1.80206910e-01,  3.20836812e-01],\n",
       "          [ 2.85630435e-01,  6.56336844e-02,  2.26185396e-01]],\n",
       " \n",
       "         [[ 3.39389816e-02, -5.03176041e-02,  1.66839305e-02],\n",
       "          [ 1.60159647e-01, -5.72197177e-02,  1.69875711e-01],\n",
       "          [ 1.35335827e+00, -1.71724749e+00,  6.20608091e-01],\n",
       "          [ 1.36079133e+00, -2.83229411e-01,  1.43579030e+00],\n",
       "          [ 1.13065624e+00, -4.85285610e-01,  6.78846598e-01],\n",
       "          [ 2.38183689e+00,  1.74887586e+00, -5.49417771e-02]],\n",
       " \n",
       "         [[ 3.15965205e-01,  4.86550480e-03,  1.11017883e-01],\n",
       "          [ 4.38981324e-01,  1.91771895e-01,  1.89475074e-01],\n",
       "          [ 2.37810493e+00,  7.30945706e-01,  8.27528656e-01],\n",
       "          [ 8.82447052e+00,  1.80002058e+00, -3.73747778e+00],\n",
       "          [ 3.68422461e+00,  1.95196986e+00,  5.46661139e+00],\n",
       "          [ 1.04419041e+00, -8.24344933e-01,  1.59324539e+00]],\n",
       " \n",
       "         [[ 2.56887585e-01,  1.25610873e-01,  7.41566494e-02],\n",
       "          [ 3.15279812e-01,  2.78054774e-01, -3.07589322e-01],\n",
       "          [ 1.36466634e+00, -1.91775799e+00, -1.87158120e+00],\n",
       "          [ 5.88808012e+00,  4.31410521e-01, -7.63824999e-01],\n",
       "          [ 3.83649278e+00, -3.20831013e+00,  5.55192804e+00],\n",
       "          [ 6.98661059e-02, -5.69391660e-02,  8.38780329e-02]]]],\n",
       "       dtype=float32),\n",
       " 'conv_function': array([[[[ 3.35183114e-01, -2.98387051e-01, -2.43366152e-01],\n",
       "          [ 4.53869343e-01, -5.61701179e-01,  8.52671266e-01],\n",
       "          [ 6.20629740e+00, -1.87858194e-01,  3.71137142e+00],\n",
       "          [ 3.67584825e+00,  1.66860151e+00,  5.42632675e+00],\n",
       "          [ 1.75181305e+00, -9.30266619e-01,  2.48460317e+00],\n",
       "          [ 1.67069763e-01, -1.99684516e-01, -8.58667269e-02]],\n",
       " \n",
       "         [[ 1.92767054e-01, -1.35195121e-01,  1.32830858e-01],\n",
       "          [ 3.90160054e-01, -2.29885474e-01, -1.33951187e-01],\n",
       "          [ 2.45362210e+00, -2.32912064e+00, -2.90248394e+00],\n",
       "          [ 4.36160564e+00, -3.48951316e+00,  5.54968786e+00],\n",
       "          [ 3.44555259e+00,  9.82872725e-01,  2.92140722e+00],\n",
       "          [ 2.35787436e-01,  6.39984384e-02,  1.42505258e-01]],\n",
       " \n",
       "         [[ 2.96250761e-01,  6.03707358e-02,  2.31026858e-01],\n",
       "          [ 3.86596143e-01, -3.34741950e-01,  3.30415845e-01],\n",
       "          [ 5.04108608e-01,  1.59630448e-01,  5.24823487e-01],\n",
       "          [ 9.71292555e-01, -1.15124059e+00,  3.87048692e-01],\n",
       "          [ 1.08860388e+01, -1.43002510e+01,  1.34051647e+01],\n",
       "          [ 1.02610588e-01, -2.00685933e-02,  7.13166893e-02]],\n",
       " \n",
       "         [[ 2.75296926e-01, -2.37801999e-01,  5.63532472e-01],\n",
       "          [ 9.95197010e+00, -1.36852665e+01, -5.36244297e+00],\n",
       "          [ 1.51594534e+01,  1.24921904e+01,  2.16996517e+01],\n",
       "          [ 1.10467780e+00, -4.75778073e-01, -7.29565978e-01],\n",
       "          [ 2.93811970e+01,  1.75889549e+01,  2.01821690e+01],\n",
       "          [ 1.06735468e-01, -8.24057907e-02,  6.68496042e-02]],\n",
       " \n",
       "         [[ 2.15580031e-01, -9.32395384e-02,  2.59420872e-01],\n",
       "          [ 4.16698933e+00, -5.89238501e+00, -6.87040806e+00],\n",
       "          [ 7.48789787e+00, -1.13568869e+01,  1.42077484e+01],\n",
       "          [ 7.93431938e-01,  2.49369547e-01,  5.32378197e-01],\n",
       "          [ 3.14291507e-01, -1.80206910e-01,  3.20836812e-01],\n",
       "          [ 2.85630435e-01,  6.56336844e-02,  2.26185396e-01]],\n",
       " \n",
       "         [[ 3.39389816e-02, -5.03176041e-02,  1.66839305e-02],\n",
       "          [ 1.60159647e-01, -5.72197177e-02,  1.69875711e-01],\n",
       "          [ 1.35335827e+00, -1.71724749e+00,  6.20608091e-01],\n",
       "          [ 1.36079133e+00, -2.83229411e-01,  1.43579030e+00],\n",
       "          [ 1.13065624e+00, -4.85285610e-01,  6.78846598e-01],\n",
       "          [ 2.38183689e+00,  1.74887586e+00, -5.49417771e-02]],\n",
       " \n",
       "         [[ 3.15965205e-01,  4.86550480e-03,  1.11017883e-01],\n",
       "          [ 4.38981324e-01,  1.91771895e-01,  1.89475074e-01],\n",
       "          [ 2.37810493e+00,  7.30945706e-01,  8.27528656e-01],\n",
       "          [ 8.82447052e+00,  1.80002058e+00, -3.73747778e+00],\n",
       "          [ 3.68422461e+00,  1.95196986e+00,  5.46661139e+00],\n",
       "          [ 1.04419041e+00, -8.24344933e-01,  1.59324539e+00]],\n",
       " \n",
       "         [[ 2.56887585e-01,  1.25610873e-01,  7.41566494e-02],\n",
       "          [ 3.15279812e-01,  2.78054774e-01, -3.07589322e-01],\n",
       "          [ 1.36466634e+00, -1.91775799e+00, -1.87158120e+00],\n",
       "          [ 5.88808012e+00,  4.31410521e-01, -7.63824999e-01],\n",
       "          [ 3.83649278e+00, -3.20831013e+00,  5.55192804e+00],\n",
       "          [ 6.98661059e-02, -5.69391660e-02,  8.38780329e-02]]]],\n",
       "       dtype=float32),\n",
       " 'relu1': array([[[[3.35205078e-01, 0.00000000e+00, 0.00000000e+00],\n",
       "          [4.53857422e-01, 0.00000000e+00, 8.52783203e-01],\n",
       "          [6.20629883e+00, 0.00000000e+00, 3.71142578e+00],\n",
       "          [3.67578125e+00, 1.66870117e+00, 5.42626953e+00],\n",
       "          [1.75170898e+00, 0.00000000e+00, 2.48461914e+00],\n",
       "          [1.66992188e-01, 0.00000000e+00, 0.00000000e+00]],\n",
       " \n",
       "         [[1.92871094e-01, 0.00000000e+00, 1.32812500e-01],\n",
       "          [3.90136719e-01, 0.00000000e+00, 0.00000000e+00],\n",
       "          [2.45361328e+00, 0.00000000e+00, 0.00000000e+00],\n",
       "          [4.36157227e+00, 0.00000000e+00, 5.54980469e+00],\n",
       "          [3.44555664e+00, 9.82910156e-01, 2.92138672e+00],\n",
       "          [2.35839844e-01, 6.39648438e-02, 1.42578125e-01]],\n",
       " \n",
       "         [[2.96142578e-01, 6.03027344e-02, 2.30957031e-01],\n",
       "          [3.86474609e-01, 0.00000000e+00, 3.30322266e-01],\n",
       "          [5.04150391e-01, 1.59667969e-01, 5.24902344e-01],\n",
       "          [9.71191406e-01, 0.00000000e+00, 3.86962891e-01],\n",
       "          [1.08859863e+01, 0.00000000e+00, 1.34052734e+01],\n",
       "          [1.02539062e-01, 0.00000000e+00, 7.12890625e-02]],\n",
       " \n",
       "         [[2.75390625e-01, 0.00000000e+00, 5.63476562e-01],\n",
       "          [9.95190430e+00, 0.00000000e+00, 0.00000000e+00],\n",
       "          [1.51594238e+01, 1.24921875e+01, 1.59997559e+01],\n",
       "          [1.10473633e+00, 0.00000000e+00, 0.00000000e+00],\n",
       "          [1.59997559e+01, 1.59997559e+01, 1.59997559e+01],\n",
       "          [1.06689453e-01, 0.00000000e+00, 6.68945312e-02]],\n",
       " \n",
       "         [[2.15576172e-01, 0.00000000e+00, 2.59521484e-01],\n",
       "          [4.16699219e+00, 0.00000000e+00, 0.00000000e+00],\n",
       "          [7.48779297e+00, 0.00000000e+00, 1.42077637e+01],\n",
       "          [7.93457031e-01, 2.49267578e-01, 5.32470703e-01],\n",
       "          [3.14208984e-01, 0.00000000e+00, 3.20800781e-01],\n",
       "          [2.85644531e-01, 6.56738281e-02, 2.26074219e-01]],\n",
       " \n",
       "         [[3.39355469e-02, 0.00000000e+00, 1.66015625e-02],\n",
       "          [1.60156250e-01, 0.00000000e+00, 1.69921875e-01],\n",
       "          [1.35327148e+00, 0.00000000e+00, 6.20605469e-01],\n",
       "          [1.36083984e+00, 0.00000000e+00, 1.43579102e+00],\n",
       "          [1.13061523e+00, 0.00000000e+00, 6.78955078e-01],\n",
       "          [2.38183594e+00, 1.74877930e+00, 0.00000000e+00]],\n",
       " \n",
       "         [[3.15917969e-01, 4.88281250e-03, 1.11083984e-01],\n",
       "          [4.38964844e-01, 1.91650391e-01, 1.89453125e-01],\n",
       "          [2.37817383e+00, 7.30957031e-01, 8.27636719e-01],\n",
       "          [8.82446289e+00, 1.80004883e+00, 0.00000000e+00],\n",
       "          [3.68432617e+00, 1.95190430e+00, 5.46655273e+00],\n",
       "          [1.04418945e+00, 0.00000000e+00, 1.59326172e+00]],\n",
       " \n",
       "         [[2.56835938e-01, 1.25732422e-01, 7.42187500e-02],\n",
       "          [3.15185547e-01, 2.78076172e-01, 0.00000000e+00],\n",
       "          [1.36474609e+00, 0.00000000e+00, 0.00000000e+00],\n",
       "          [5.88818359e+00, 4.31396484e-01, 0.00000000e+00],\n",
       "          [3.83642578e+00, 0.00000000e+00, 5.55200195e+00],\n",
       "          [6.98242188e-02, 0.00000000e+00, 8.39843750e-02]]]],\n",
       "       dtype=float32),\n",
       " 'flatten': array([[3.35205078e-01, 0.00000000e+00, 0.00000000e+00, 4.53857422e-01,\n",
       "         0.00000000e+00, 8.52783203e-01, 6.20629883e+00, 0.00000000e+00,\n",
       "         3.71142578e+00, 3.67578125e+00, 1.66870117e+00, 5.42626953e+00,\n",
       "         1.75170898e+00, 0.00000000e+00, 2.48461914e+00, 1.66992188e-01,\n",
       "         0.00000000e+00, 0.00000000e+00, 1.92871094e-01, 0.00000000e+00,\n",
       "         1.32812500e-01, 3.90136719e-01, 0.00000000e+00, 0.00000000e+00,\n",
       "         2.45361328e+00, 0.00000000e+00, 0.00000000e+00, 4.36157227e+00,\n",
       "         0.00000000e+00, 5.54980469e+00, 3.44555664e+00, 9.82910156e-01,\n",
       "         2.92138672e+00, 2.35839844e-01, 6.39648438e-02, 1.42578125e-01,\n",
       "         2.96142578e-01, 6.03027344e-02, 2.30957031e-01, 3.86474609e-01,\n",
       "         0.00000000e+00, 3.30322266e-01, 5.04150391e-01, 1.59667969e-01,\n",
       "         5.24902344e-01, 9.71191406e-01, 0.00000000e+00, 3.86962891e-01,\n",
       "         1.08859863e+01, 0.00000000e+00, 1.34052734e+01, 1.02539062e-01,\n",
       "         0.00000000e+00, 7.12890625e-02, 2.75390625e-01, 0.00000000e+00,\n",
       "         5.63476562e-01, 9.95190430e+00, 0.00000000e+00, 0.00000000e+00,\n",
       "         1.51594238e+01, 1.24921875e+01, 1.59997559e+01, 1.10473633e+00,\n",
       "         0.00000000e+00, 0.00000000e+00, 1.59997559e+01, 1.59997559e+01,\n",
       "         1.59997559e+01, 1.06689453e-01, 0.00000000e+00, 6.68945312e-02,\n",
       "         2.15576172e-01, 0.00000000e+00, 2.59521484e-01, 4.16699219e+00,\n",
       "         0.00000000e+00, 0.00000000e+00, 7.48779297e+00, 0.00000000e+00,\n",
       "         1.42077637e+01, 7.93457031e-01, 2.49267578e-01, 5.32470703e-01,\n",
       "         3.14208984e-01, 0.00000000e+00, 3.20800781e-01, 2.85644531e-01,\n",
       "         6.56738281e-02, 2.26074219e-01, 3.39355469e-02, 0.00000000e+00,\n",
       "         1.66015625e-02, 1.60156250e-01, 0.00000000e+00, 1.69921875e-01,\n",
       "         1.35327148e+00, 0.00000000e+00, 6.20605469e-01, 1.36083984e+00,\n",
       "         0.00000000e+00, 1.43579102e+00, 1.13061523e+00, 0.00000000e+00,\n",
       "         6.78955078e-01, 2.38183594e+00, 1.74877930e+00, 0.00000000e+00,\n",
       "         3.15917969e-01, 4.88281250e-03, 1.11083984e-01, 4.38964844e-01,\n",
       "         1.91650391e-01, 1.89453125e-01, 2.37817383e+00, 7.30957031e-01,\n",
       "         8.27636719e-01, 8.82446289e+00, 1.80004883e+00, 0.00000000e+00,\n",
       "         3.68432617e+00, 1.95190430e+00, 5.46655273e+00, 1.04418945e+00,\n",
       "         0.00000000e+00, 1.59326172e+00, 2.56835938e-01, 1.25732422e-01,\n",
       "         7.42187500e-02, 3.15185547e-01, 2.78076172e-01, 0.00000000e+00,\n",
       "         1.36474609e+00, 0.00000000e+00, 0.00000000e+00, 5.88818359e+00,\n",
       "         4.31396484e-01, 0.00000000e+00, 3.83642578e+00, 0.00000000e+00,\n",
       "         5.55200195e+00, 6.98242188e-02, 0.00000000e+00, 8.39843750e-02]],\n",
       "       dtype=float32),\n",
       " 'dense1': array([[ -7.8847303 , -14.850463  , -18.032112  ,  -9.795559  ,\n",
       "           2.540259  ,   3.9806266 ,   4.2187223 ,   2.0574949 ,\n",
       "          12.639126  ,  -0.19014955,   7.0872135 ,   9.429595  ,\n",
       "          18.045965  , -17.163803  ,  -3.1656337 ,   6.5062485 ,\n",
       "           7.655097  , -10.508107  , -16.56015   ,   9.440582  ]],\n",
       "       dtype=float32),\n",
       " 'dense1_function': array([[ -7.8847303 , -14.850463  , -18.032112  ,  -9.795559  ,\n",
       "           2.540259  ,   3.9806266 ,   4.2187223 ,   2.0574949 ,\n",
       "          12.639126  ,  -0.19014955,   7.0872135 ,   9.429595  ,\n",
       "          18.045965  , -17.163803  ,  -3.1656337 ,   6.5062485 ,\n",
       "           7.655097  , -10.508107  , -16.56015   ,   9.440582  ]],\n",
       "       dtype=float32),\n",
       " 'relu2': array([[ 0.       ,  0.       ,  0.       ,  0.       ,  2.5402832,\n",
       "          3.980713 ,  4.21875  ,  2.057373 , 12.63916  ,  0.       ,\n",
       "          7.087158 ,  9.4296875, 15.999756 ,  0.       ,  0.       ,\n",
       "          6.5063477,  7.6550293,  0.       ,  0.       ,  9.440674 ]],\n",
       "       dtype=float32),\n",
       " 'output': array([[41.371735]], dtype=float32),\n",
       " 'output_function': array([[41.371735]], dtype=float32)}"
      ]
     },
     "execution_count": 263,
     "metadata": {},
     "output_type": "execute_result"
    }
   ],
   "source": [
    "keras_trace"
   ]
  },
  {
   "cell_type": "code",
   "execution_count": 264,
   "metadata": {},
   "outputs": [
    {
     "data": {
      "text/plain": [
       "{'conv': array([[[[ 1.4175000e+02, -1.1250000e+02, -8.3875000e+01],\n",
       "          [ 1.9200000e+02, -2.1137500e+02,  2.9200000e+02],\n",
       "          [ 2.6303750e+03, -7.1125000e+01,  1.2727500e+03],\n",
       "          [ 1.5577500e+03,  6.2662500e+02,  1.8608750e+03],\n",
       "          [ 7.4225000e+02, -3.5012500e+02,  8.5175000e+02],\n",
       "          [ 7.0625000e+01, -7.5375000e+01, -2.9625000e+01]],\n",
       " \n",
       "         [[ 8.1375000e+01, -5.1125000e+01,  4.5250000e+01],\n",
       "          [ 1.6500000e+02, -8.6750000e+01, -4.6375000e+01],\n",
       "          [ 1.0397500e+03, -8.7612500e+02, -9.9612500e+02],\n",
       "          [ 1.8481250e+03, -1.3123750e+03,  1.9030000e+03],\n",
       "          [ 1.4602500e+03,  3.6900000e+02,  1.0017500e+03],\n",
       "          [ 9.9375000e+01,  2.3625000e+01,  4.8375000e+01]],\n",
       " \n",
       "         [[ 1.2525000e+02,  2.2500000e+01,  7.9000000e+01],\n",
       "          [ 1.6375000e+02, -1.2600000e+02,  1.1312500e+02],\n",
       "          [ 2.1312500e+02,  5.9625000e+01,  1.7962500e+02],\n",
       "          [ 4.1112500e+02, -4.3337500e+02,  1.3212500e+02],\n",
       "          [ 4.6141250e+03, -5.3763750e+03,  4.5976250e+03],\n",
       "          [ 4.3125000e+01, -7.8750000e+00,  2.4125000e+01]],\n",
       " \n",
       "         [[ 1.1650000e+02, -8.9625000e+01,  1.9300000e+02],\n",
       "          [ 4.2185000e+03, -5.1450000e+03, -1.8396250e+03],\n",
       "          [ 6.4256250e+03,  4.6955000e+03,  7.4423750e+03],\n",
       "          [ 4.6762500e+02, -1.7925000e+02, -2.5087500e+02],\n",
       "          [ 1.2454375e+04,  6.6116250e+03,  6.9222500e+03],\n",
       "          [ 4.5000000e+01, -3.1250000e+01,  2.2625000e+01]],\n",
       " \n",
       "         [[ 9.1125000e+01, -3.5250000e+01,  8.8750000e+01],\n",
       "          [ 1.7660000e+03, -2.2156250e+03, -2.3568750e+03],\n",
       "          [ 3.1735000e+03, -4.2700000e+03,  4.8726250e+03],\n",
       "          [ 3.3575000e+02,  9.3250000e+01,  1.8187500e+02],\n",
       "          [ 1.3300000e+02, -6.8000000e+01,  1.0975000e+02],\n",
       "          [ 1.2062500e+02,  2.4250000e+01,  7.7375000e+01]],\n",
       " \n",
       "         [[ 1.4375000e+01, -1.9000000e+01,  5.6250000e+00],\n",
       "          [ 6.7625000e+01, -2.1750000e+01,  5.8000000e+01],\n",
       "          [ 5.7312500e+02, -6.4600000e+02,  2.1250000e+02],\n",
       "          [ 5.7625000e+02, -1.0712500e+02,  4.9200000e+02],\n",
       "          [ 4.7887500e+02, -1.8300000e+02,  2.3225000e+02],\n",
       "          [ 1.0091250e+03,  6.5700000e+02, -1.9500000e+01]],\n",
       " \n",
       "         [[ 1.3362500e+02,  1.2500000e+00,  3.7750000e+01],\n",
       "          [ 1.8562500e+02,  7.1625000e+01,  6.4625000e+01],\n",
       "          [ 1.0076250e+03,  2.7412500e+02,  2.8337500e+02],\n",
       "          [ 3.7400000e+03,  6.7612500e+02, -1.2825000e+03],\n",
       "          [ 1.5612500e+03,  7.3337500e+02,  1.8745000e+03],\n",
       "          [ 4.4237500e+02, -3.1025000e+02,  5.4612500e+02]],\n",
       " \n",
       "         [[ 1.0850000e+02,  4.6875000e+01,  2.5125000e+01],\n",
       "          [ 1.3337500e+02,  1.0425000e+02, -1.0575000e+02],\n",
       "          [ 5.7800000e+02, -7.2125000e+02, -6.4250000e+02],\n",
       "          [ 2.4953750e+03,  1.6175000e+02, -2.6275000e+02],\n",
       "          [ 1.6257500e+03, -1.2066250e+03,  1.9038750e+03],\n",
       "          [ 2.9375000e+01, -2.1750000e+01,  2.8500000e+01]]]]),\n",
       " 'conv_alpha': array([[[[ 3.33984375e-01, -2.98828125e-01, -2.46093750e-01],\n",
       "          [ 4.51171875e-01, -5.62500000e-01,  8.49609375e-01],\n",
       "          [ 6.19921875e+00, -1.89453125e-01,  3.70898438e+00],\n",
       "          [ 3.67187500e+00,  1.66210938e+00,  5.42187500e+00],\n",
       "          [ 1.74804688e+00, -9.29687500e-01,  2.48046875e+00],\n",
       "          [ 1.66015625e-01, -2.01171875e-01, -8.78906250e-02]],\n",
       " \n",
       "         [[ 1.91406250e-01, -1.36718750e-01,  1.30859375e-01],\n",
       "          [ 3.88671875e-01, -2.30468750e-01, -1.36718750e-01],\n",
       "          [ 2.45117188e+00, -2.32617188e+00, -2.90429688e+00],\n",
       "          [ 4.35546875e+00, -3.48632812e+00,  5.54492188e+00],\n",
       "          [ 3.44140625e+00,  9.78515625e-01,  2.91796875e+00],\n",
       "          [ 2.32421875e-01,  6.25000000e-02,  1.40625000e-01]],\n",
       " \n",
       "         [[ 2.94921875e-01,  5.85937500e-02,  2.28515625e-01],\n",
       "          [ 3.84765625e-01, -3.35937500e-01,  3.28125000e-01],\n",
       "          [ 5.01953125e-01,  1.58203125e-01,  5.23437500e-01],\n",
       "          [ 9.68750000e-01, -1.15234375e+00,  3.84765625e-01],\n",
       "          [ 1.08769531e+01, -1.42753906e+01,  1.33984375e+01],\n",
       "          [ 1.01562500e-01, -2.14843750e-02,  6.83593750e-02]],\n",
       " \n",
       "         [[ 2.73437500e-01, -2.38281250e-01,  5.60546875e-01],\n",
       "          [ 9.94335938e+00, -1.36601562e+01, -5.36328125e+00],\n",
       "          [ 1.51464844e+01,  1.24648438e+01,  2.16894531e+01],\n",
       "          [ 1.10156250e+00, -4.76562500e-01, -7.32421875e-01],\n",
       "          [ 2.93593750e+01,  1.75527344e+01,  2.01738281e+01],\n",
       "          [ 1.05468750e-01, -8.39843750e-02,  6.44531250e-02]],\n",
       " \n",
       "         [[ 2.12890625e-01, -9.37500000e-02,  2.57812500e-01],\n",
       "          [ 4.16210938e+00, -5.88281250e+00, -6.86914062e+00],\n",
       "          [ 7.48046875e+00, -1.13378906e+01,  1.41992188e+01],\n",
       "          [ 7.91015625e-01,  2.46093750e-01,  5.29296875e-01],\n",
       "          [ 3.12500000e-01, -1.81640625e-01,  3.18359375e-01],\n",
       "          [ 2.83203125e-01,  6.25000000e-02,  2.24609375e-01]],\n",
       " \n",
       "         [[ 3.32031250e-02, -5.07812500e-02,  1.56250000e-02],\n",
       "          [ 1.58203125e-01, -5.85937500e-02,  1.67968750e-01],\n",
       "          [ 1.34960938e+00, -1.71679688e+00,  6.19140625e-01],\n",
       "          [ 1.35742188e+00, -2.85156250e-01,  1.43359375e+00],\n",
       "          [ 1.12890625e+00, -4.86328125e-01,  6.75781250e-01],\n",
       "          [ 2.37890625e+00,  1.74414062e+00, -5.85937500e-02]],\n",
       " \n",
       "         [[ 3.14453125e-01,  1.95312500e-03,  1.09375000e-01],\n",
       "          [ 4.37500000e-01,  1.89453125e-01,  1.87500000e-01],\n",
       "          [ 2.37500000e+00,  7.26562500e-01,  8.24218750e-01],\n",
       "          [ 8.81640625e+00,  1.79492188e+00, -3.73828125e+00],\n",
       "          [ 3.67968750e+00,  1.94531250e+00,  5.46289062e+00],\n",
       "          [ 1.04101562e+00, -8.24218750e-01,  1.58984375e+00]],\n",
       " \n",
       "         [[ 2.53906250e-01,  1.23046875e-01,  7.22656250e-02],\n",
       "          [ 3.12500000e-01,  2.75390625e-01, -3.08593750e-01],\n",
       "          [ 1.36132812e+00, -1.91601562e+00, -1.87304688e+00],\n",
       "          [ 5.88085938e+00,  4.27734375e-01, -7.67578125e-01],\n",
       "          [ 3.83203125e+00, -3.20507812e+00,  5.54687500e+00],\n",
       "          [ 6.83593750e-02, -5.85937500e-02,  8.20312500e-02]]]]),\n",
       " 'relu1': array([[[[3.33984375e-01, 0.00000000e+00, 0.00000000e+00],\n",
       "          [4.51171875e-01, 0.00000000e+00, 8.49609375e-01],\n",
       "          [6.19921875e+00, 0.00000000e+00, 3.70898438e+00],\n",
       "          [3.67187500e+00, 1.66210938e+00, 5.42187500e+00],\n",
       "          [1.74804688e+00, 0.00000000e+00, 2.48046875e+00],\n",
       "          [1.66015625e-01, 0.00000000e+00, 0.00000000e+00]],\n",
       " \n",
       "         [[1.91406250e-01, 0.00000000e+00, 1.30859375e-01],\n",
       "          [3.88671875e-01, 0.00000000e+00, 0.00000000e+00],\n",
       "          [2.45117188e+00, 0.00000000e+00, 0.00000000e+00],\n",
       "          [4.35546875e+00, 0.00000000e+00, 5.54492188e+00],\n",
       "          [3.44140625e+00, 9.78515625e-01, 2.91796875e+00],\n",
       "          [2.32421875e-01, 6.25000000e-02, 1.40625000e-01]],\n",
       " \n",
       "         [[2.94921875e-01, 5.85937500e-02, 2.28515625e-01],\n",
       "          [3.84765625e-01, 0.00000000e+00, 3.28125000e-01],\n",
       "          [5.01953125e-01, 1.58203125e-01, 5.23437500e-01],\n",
       "          [9.68750000e-01, 0.00000000e+00, 3.84765625e-01],\n",
       "          [1.08769531e+01, 0.00000000e+00, 1.33984375e+01],\n",
       "          [1.01562500e-01, 0.00000000e+00, 6.83593750e-02]],\n",
       " \n",
       "         [[2.73437500e-01, 0.00000000e+00, 5.60546875e-01],\n",
       "          [9.94335938e+00, 0.00000000e+00, 0.00000000e+00],\n",
       "          [1.51464844e+01, 1.24648438e+01, 1.59997559e+01],\n",
       "          [1.10156250e+00, 0.00000000e+00, 0.00000000e+00],\n",
       "          [1.59997559e+01, 1.59997559e+01, 1.59997559e+01],\n",
       "          [1.05468750e-01, 0.00000000e+00, 6.44531250e-02]],\n",
       " \n",
       "         [[2.12890625e-01, 0.00000000e+00, 2.57812500e-01],\n",
       "          [4.16210938e+00, 0.00000000e+00, 0.00000000e+00],\n",
       "          [7.48046875e+00, 0.00000000e+00, 1.41992188e+01],\n",
       "          [7.91015625e-01, 2.46093750e-01, 5.29296875e-01],\n",
       "          [3.12500000e-01, 0.00000000e+00, 3.18359375e-01],\n",
       "          [2.83203125e-01, 6.25000000e-02, 2.24609375e-01]],\n",
       " \n",
       "         [[3.32031250e-02, 0.00000000e+00, 1.56250000e-02],\n",
       "          [1.58203125e-01, 0.00000000e+00, 1.67968750e-01],\n",
       "          [1.34960938e+00, 0.00000000e+00, 6.19140625e-01],\n",
       "          [1.35742188e+00, 0.00000000e+00, 1.43359375e+00],\n",
       "          [1.12890625e+00, 0.00000000e+00, 6.75781250e-01],\n",
       "          [2.37890625e+00, 1.74414062e+00, 0.00000000e+00]],\n",
       " \n",
       "         [[3.14453125e-01, 1.95312500e-03, 1.09375000e-01],\n",
       "          [4.37500000e-01, 1.89453125e-01, 1.87500000e-01],\n",
       "          [2.37500000e+00, 7.26562500e-01, 8.24218750e-01],\n",
       "          [8.81640625e+00, 1.79492188e+00, 0.00000000e+00],\n",
       "          [3.67968750e+00, 1.94531250e+00, 5.46289062e+00],\n",
       "          [1.04101562e+00, 0.00000000e+00, 1.58984375e+00]],\n",
       " \n",
       "         [[2.53906250e-01, 1.23046875e-01, 7.22656250e-02],\n",
       "          [3.12500000e-01, 2.75390625e-01, 0.00000000e+00],\n",
       "          [1.36132812e+00, 0.00000000e+00, 0.00000000e+00],\n",
       "          [5.88085938e+00, 4.27734375e-01, 0.00000000e+00],\n",
       "          [3.83203125e+00, 0.00000000e+00, 5.54687500e+00],\n",
       "          [6.83593750e-02, 0.00000000e+00, 8.20312500e-02]]]]),\n",
       " 'dense1': array([[-297.5390625, -419.34375  , -298.2421875, -142.484375 ,\n",
       "           53.0078125,   75.640625 ,   56.921875 ,   89.0859375,\n",
       "          413.0703125,   -4.9609375,  367.6953125,  588.5234375,\n",
       "          601.3515625, -368.6796875,  -79.0546875,  114.953125 ,\n",
       "          231.1328125, -420.8828125, -813.1015625,  276.9140625]]),\n",
       " 'dense1_alpha': array([[ -7.8815918 , -14.8449707 , -18.05786133,  -9.80981445,\n",
       "           2.5300293 ,   3.9609375 ,   4.19335938,   2.04980469,\n",
       "          12.60571289,  -0.21337891,   7.06933594,   9.37524414,\n",
       "          18.02124023, -17.16943359,  -3.17504883,   6.48974609,\n",
       "           7.63183594, -10.48120117, -16.52612305,   9.4140625 ]]),\n",
       " 'relu2': array([[ 0.        ,  0.        ,  0.        ,  0.        ,  2.5300293 ,\n",
       "          3.9609375 ,  4.19335938,  2.04980469, 12.60571289,  0.        ,\n",
       "          7.06933594,  9.37524414, 15.99975586,  0.        ,  0.        ,\n",
       "          6.48974609,  7.63183594,  0.        ,  0.        ,  9.4140625 ]]),\n",
       " 'output': array([[-126.36132812]]),\n",
       " 'output_alpha': array([[-40.22070312]]),\n",
       " 'output_linear': array([[-40.234375]])}"
      ]
     },
     "execution_count": 264,
     "metadata": {},
     "output_type": "execute_result"
    }
   ],
   "source": [
    "hls4ml_trace"
   ]
  },
  {
   "cell_type": "markdown",
   "metadata": {},
   "source": [
    "# Synthesis: command line or here"
   ]
  },
  {
   "cell_type": "code",
   "execution_count": 12,
   "metadata": {},
   "outputs": [],
   "source": [
    "# Change the uncertainty in tcl: set_clock_uncertainty 30% {get_clocks default}\n",
    "\n",
    "#!grep -n create_clock VersionD/build_prj.tcl | awk -F \":\" '{print$1}' | ( read line; echo \"$((line + 1)) \") | xargs -I {} sed -i '{} i set_clock_uncertainty 30% {get_clocks default}' VersionD/build_prj.tcl "
   ]
  },
  {
   "cell_type": "code",
   "execution_count": 13,
   "metadata": {},
   "outputs": [],
   "source": [
    "# Run Vivado HLS\n",
    "\n",
    "# !vivado_hls -f CaloADTrigger/build_prj.tcl \"reset=1 synth=1 csim=0 cosim=0 validation=0 export=0 vsynth=0\""
   ]
  },
  {
   "cell_type": "code",
   "execution_count": 14,
   "metadata": {},
   "outputs": [],
   "source": [
    "# Get the report\n",
    "\n",
    "# !cat CaloADTrigger-synth2/myproject_prj/solution1/syn/report/myproject_csynth.rpt"
   ]
  },
  {
   "cell_type": "code",
   "execution_count": null,
   "metadata": {},
   "outputs": [],
   "source": []
  }
 ],
 "metadata": {
  "kernelspec": {
   "display_name": "Python 3 (ipykernel)",
   "language": "python",
   "name": "python3"
  },
  "language_info": {
   "codemirror_mode": {
    "name": "ipython",
    "version": 3
   },
   "file_extension": ".py",
   "mimetype": "text/x-python",
   "name": "python",
   "nbconvert_exporter": "python",
   "pygments_lexer": "ipython3",
   "version": "3.9.12"
  }
 },
 "nbformat": 4,
 "nbformat_minor": 4
}

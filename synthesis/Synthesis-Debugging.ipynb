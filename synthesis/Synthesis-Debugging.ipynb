{
 "cells": [
  {
   "cell_type": "code",
   "execution_count": 1,
   "metadata": {},
   "outputs": [
    {
     "name": "stderr",
     "output_type": "stream",
     "text": [
      "/afs/cern.ch/work/a/adpol/L1CaloTriggerAD/synthesis/hls4ml/converters/__init__.py:15: UserWarning: WARNING: Pytorch converter is not enabled!\n",
      "  warnings.warn(\"WARNING: Pytorch converter is not enabled!\")\n"
     ]
    }
   ],
   "source": [
    "import numpy as np\n",
    "import hls4ml\n",
    "import qkeras\n",
    "import tensorflow as tf\n",
    "\n",
    "from qkeras import *\n",
    "from qkeras import QDense, QActivation, QBatchNormalization, quantized_bits\n",
    "from qkeras.utils import load_qmodel\n",
    "from tensorflow import keras\n",
    "from tensorflow.keras.initializers import RandomNormal\n",
    "from tensorflow.keras.models import Model\n",
    "from tensorflow.keras.layers import Input, Activation\n",
    "from tensorflow.keras import layers, models"
   ]
  },
  {
   "cell_type": "code",
   "execution_count": 2,
   "metadata": {},
   "outputs": [],
   "source": [
    "# Define the test vector; or reuse the old one\n",
    "\n",
    "# test_vector = np.random.randint(0, 1024, 252) + 0.\n",
    "# test_vector = test_vector.reshape(1, 252)\n",
    "\n",
    "test_vector = np.array(\n",
    "    [\n",
    "        [310.,  232.,  288.,  796.,  557.,  540.,   37.,  461.,  281.,\n",
    "         800.,  385.,  117.,  700.,  940.,  181.,  892.,  335.,  723.,\n",
    "         349.,  385.,  195.,  707.,   49.,  769.,  922.,  559., 1011.,\n",
    "         839.,  262.,   36.,  994.,  327., 1023.,  109.,  585.,  715.,\n",
    "         205.,  327.,  872.,  155.,   51.,  152.,  797.,  278.,   71.,\n",
    "         1002.,  303.,  477.,  442.,  882.,  656.,  666.,  378., 1008.,\n",
    "         284.,   77.,  966.,  988.,  502.,  540., 1014.,  846.,  829.,\n",
    "         259.,  231., 1009.,  377.,   99.,  257.,  321.,  848.,  888.,\n",
    "         1000.,  637.,  780.,   82.,   90.,  453.,  285.,  477.,  653.,\n",
    "         247.,  343.,  100.,   23.,  288.,  391.,  153.,  501.,   52.,\n",
    "         70.,   33.,  326.,  589.,  440.,  905.,  833.,   51.,  332.,\n",
    "         856.,  766.,  195.,  655.,  811.,  804.,  868.,  678.,  293.,\n",
    "         442.,  469.,  575.,  360.,  164.,  530.,  554.,   72.,  527.,\n",
    "         630.,   63.,  381.,  790.,  245.,  379.,  938.,  735.,  527.,\n",
    "         408.,  548.,  881.,  933.,  358.,  906.,  977.,  355.,  353.,\n",
    "         380.,  453.,   85.,  502.,   73.,  165.,  853.,  149.,  288.,\n",
    "         1022.,  658.,  747.,  241.,  354.,   28.,  104.,   14.,  699.,\n",
    "         73.,  132.,  609.,  794.,  134.,  442.,  740.,  329.,  900.,\n",
    "         232., 1023.,  571.,  178.,  609.,   49.,  787.,  847.,  314.,\n",
    "         269.,  528.,  528.,  418.,   25.,   58.,  972.,  376.,  670.,\n",
    "         125.,  381.,  382., 1015.,  111.,  502.,  119.,  126.,  871.,\n",
    "         385.,  417.,  720.,   22.,  170.,  460.,  979.,  228.,  660.,\n",
    "         495.,  235.,  309.,  826.,  334.,  404.,  673.,  371.,  208.,\n",
    "         813.,  423.,  526.,  858.,  133.,  675.,  139.,    3.,  532.,\n",
    "         731.,   54.,    5.,  239.,  308.,   57.,  144.,  307.,  685.,\n",
    "         751.,  897.,  338.,  899.,  646.,  876.,   47.,  186.,  647.,\n",
    "         533.,   23.,  567.,  182.,  203.,  694.,  133.,  964.,  189.,\n",
    "         126.,  809.,  133.,  767.,  693.,  379.,    6.,  333.,  382.]\n",
    "    ]\n",
    ")"
   ]
  },
  {
   "cell_type": "code",
   "execution_count": 3,
   "metadata": {},
   "outputs": [
    {
     "name": "stderr",
     "output_type": "stream",
     "text": [
      "2022-08-26 18:04:38.429483: E tensorflow/stream_executor/cuda/cuda_driver.cc:271] failed call to cuInit: CUDA_ERROR_NO_DEVICE: no CUDA-capable device is detected\n",
      "2022-08-26 18:04:38.429602: I tensorflow/stream_executor/cuda/cuda_diagnostics.cc:156] kernel driver does not appear to be running on this host (lxplus710.cern.ch): /proc/driver/nvidia/version does not exist\n",
      "2022-08-26 18:04:38.699015: I tensorflow/core/platform/cpu_feature_guard.cc:142] This TensorFlow binary is optimized with oneAPI Deep Neural Network Library (oneDNN) to use the following CPU instructions in performance-critical operations:  SSE4.1 SSE4.2 AVX AVX2 FMA\n",
      "To enable them in other operations, rebuild TensorFlow with the appropriate compiler flags.\n"
     ]
    },
    {
     "name": "stdout",
     "output_type": "stream",
     "text": [
      "Model: \"student\"\n",
      "_________________________________________________________________\n",
      "Layer (type)                 Output Shape              Param #   \n",
      "=================================================================\n",
      "Inputs (InputLayer)          [(None, 252)]             0         \n",
      "_________________________________________________________________\n",
      "Dense_1 (QDense)             (None, 15)                3780      \n",
      "_________________________________________________________________\n",
      "Activation_1 (QActivation)   (None, 15)                0         \n",
      "_________________________________________________________________\n",
      "Out (QDense)                 (None, 1)                 15        \n",
      "=================================================================\n",
      "Total params: 3,795\n",
      "Trainable params: 3,795\n",
      "Non-trainable params: 0\n",
      "_________________________________________________________________\n"
     ]
    }
   ],
   "source": [
    "model = load_qmodel('qmodel')\n",
    "\n",
    "inputs = Input(shape = (252,), name=\"Inputs\")\n",
    "dense_1 = model.layers[2](inputs)\n",
    "#qbn = model.layers[3](dense_1)\n",
    "# qbn = BatchNormalization(name=\"QBN_1\")(dense_1)\n",
    "act = model.layers[4](dense_1)\n",
    "out = model.layers[5](act)\n",
    "\n",
    "student = Model(inputs, out, name='student')\n",
    "student.summary()"
   ]
  },
  {
   "cell_type": "code",
   "execution_count": 4,
   "metadata": {},
   "outputs": [
    {
     "name": "stdout",
     "output_type": "stream",
     "text": [
      "Interpreting Model\n",
      "Topology:\n",
      "Layer name: Inputs, layer type: Input\n",
      "Layer name: Dense_1, layer type: QDense\n",
      "  -> Activation (linear), layer name: Dense_1\n",
      "Layer name: Activation_1, layer type: QActivation\n",
      "  -> Activation (quantized_relu(5,2)), layer name: Activation_1\n",
      "Layer name: Out, layer type: QDense\n",
      "  -> Activation (linear), layer name: Out\n"
     ]
    }
   ],
   "source": [
    "hls4ml.model.optimizer.get_optimizer(\n",
    "    'output_rounding_saturation_mode'\n",
    ").configure(\n",
    "    layers=['Activation_1'],\n",
    "    rounding_mode='AP_RND',\n",
    "    saturation_mode='AP_SAT',\n",
    "    saturation_bits='AP_SAT'\n",
    ")\n",
    "\n",
    "# Create hls4ml config\n",
    "hls_config = hls4ml.utils.config_from_keras_model(student, granularity='name')\n",
    "\n",
    "# Set the model config\n",
    "hls_config['Model']['ReuseFactor'] = 3\n",
    "hls_config['Model']['Strategy'] = 'Resource'\n",
    "hls_config['Model']['ClockPeriod']  = 6.25\n",
    "hls_config['Model']['Trace']  = True\n",
    "\n",
    "# Create an entry for each layer\n",
    "for Layer in hls_config['LayerName'].keys():\n",
    "\n",
    "    if Layer == 'Inputs':\n",
    "        hls_config['LayerName'][Layer]['Precision']['accum'] = 'ap_ufixed<10, 10>'\n",
    "        hls_config['LayerName'][Layer]['Precision']['result'] = 'ap_ufixed<10, 10>'\n",
    "\n",
    "    if Layer == 'Dense_1':\n",
    "        hls_config['LayerName'][Layer]['Precision']['accum'] = 'ap_fixed<20, 18>'\n",
    "        hls_config['LayerName'][Layer]['Precision']['result'] = 'ap_fixed<20, 18>'\n",
    "    if Layer == 'Dense_1_linear':\n",
    "        hls_config['LayerName'][Layer]['Precision'] = 'ap_fixed<20, 18>'\n",
    "\n",
    "    if Layer == 'QBN_1':\n",
    "        hls_config['LayerName'][Layer]['Precision']['accum'] = 'ap_fixed<20, 10>'\n",
    "        hls_config['LayerName'][Layer]['Precision']['result'] = 'ap_fixed<20, 10>'\n",
    "        \n",
    "    if Layer == 'Activation_1':\n",
    "        hls_config['LayerName'][Layer]['Precision']['result'] = 'ap_ufixed<5, 2>'\n",
    "\n",
    "    if Layer == 'Out':\n",
    "        hls_config['LayerName'][Layer]['Precision']['accum'] = 'ap_fixed<16, 5>'\n",
    "        hls_config['LayerName'][Layer]['Precision']['result'] = 'ap_fixed<16, 5>'\n",
    "    if Layer == 'Out_linear':\n",
    "        hls_config['LayerName'][Layer]['Precision'] = 'ap_fixed<16, 5>'\n",
    "\n",
    "    hls_config['LayerName'][Layer]['Strategy'] = 'Resource'\n",
    "    hls_config['LayerName'][Layer]['ReuseFactor'] = 3\n",
    "    hls_config['LayerName'][Layer]['Trace'] = True\n",
    "    \n",
    "# Finish setting up the config\n",
    "cfg = hls4ml.converters.create_config(part=\"xc7vx690tffg1927-2\")\n",
    "cfg['IOType'] = 'io_parallel'\n",
    "cfg['HLSConfig'] = hls_config\n",
    "cfg['KerasModel'] = student\n",
    "cfg['ClockPeriod']  = 6.25\n",
    "cfg['OutputDir']  = 'CaloADTrigger/'\n",
    "cfg['Part'] = 'xc7vx690tffg1927-2'"
   ]
  },
  {
   "cell_type": "code",
   "execution_count": 5,
   "metadata": {},
   "outputs": [
    {
     "name": "stdout",
     "output_type": "stream",
     "text": [
      "Interpreting Model\n",
      "Topology:\n",
      "Layer name: Inputs, layer type: InputLayer, input shapes: [[None, 252]], output shape: [None, 252]\n",
      "Layer name: Dense_1, layer type: QDense, input shapes: [[None, 252]], output shape: [None, 15]\n",
      "Layer name: Activation_1, layer type: Activation, input shapes: [[None, 15]], output shape: [None, 15]\n",
      "Layer name: Out, layer type: QDense, input shapes: [[None, 15]], output shape: [None, 1]\n",
      "Creating HLS model\n",
      "Writing HLS project\n",
      "WARNING:tensorflow:Compiled the loaded model, but the compiled metrics have yet to be built. `model.compile_metrics` will be empty until you train or evaluate the model.\n"
     ]
    },
    {
     "name": "stderr",
     "output_type": "stream",
     "text": [
      "WARNING:tensorflow:Compiled the loaded model, but the compiled metrics have yet to be built. `model.compile_metrics` will be empty until you train or evaluate the model.\n"
     ]
    },
    {
     "name": "stdout",
     "output_type": "stream",
     "text": [
      "Done\n"
     ]
    }
   ],
   "source": [
    "# Compile the model\n",
    "\n",
    "hls_model = hls4ml.converters.keras_to_hls(cfg)\n",
    "hls4ml.model.optimizer.get_optimizer(\n",
    "    'output_rounding_saturation_mode'\n",
    ").configure(layers=[])\n",
    "hls_model.compile()"
   ]
  },
  {
   "cell_type": "code",
   "execution_count": 6,
   "metadata": {},
   "outputs": [
    {
     "data": {
      "image/png": "[encoded data removed]",
      "text/plain": [
       "<IPython.core.display.Image object>"
      ]
     },
     "execution_count": 6,
     "metadata": {},
     "output_type": "execute_result"
    }
   ],
   "source": [
    "hls4ml.utils.plot_model(\n",
    "    hls_model,\n",
    "    show_shapes=True,\n",
    "    show_precision=True,\n",
    "    to_file=None\n",
    ")"
   ]
  },
  {
   "cell_type": "code",
   "execution_count": 7,
   "metadata": {},
   "outputs": [
    {
     "data": {
      "text/plain": [
       "array([10.171875])"
      ]
     },
     "execution_count": 7,
     "metadata": {},
     "output_type": "execute_result"
    }
   ],
   "source": [
    "hls_model.predict(test_vector)"
   ]
  },
  {
   "cell_type": "code",
   "execution_count": 8,
   "metadata": {},
   "outputs": [
    {
     "name": "stderr",
     "output_type": "stream",
     "text": [
      "2022-08-26 18:05:07.289926: I tensorflow/compiler/mlir/mlir_graph_optimization_pass.cc:185] None of the MLIR Optimization Passes are enabled (registered 2)\n"
     ]
    },
    {
     "data": {
      "text/plain": [
       "array([[10.171875]], dtype=float32)"
      ]
     },
     "execution_count": 8,
     "metadata": {},
     "output_type": "execute_result"
    }
   ],
   "source": [
    "student.predict(test_vector)"
   ]
  },
  {
   "cell_type": "code",
   "execution_count": 9,
   "metadata": {},
   "outputs": [
    {
     "data": {
      "text/plain": [
       "array([[0.]])"
      ]
     },
     "execution_count": 9,
     "metadata": {},
     "output_type": "execute_result"
    }
   ],
   "source": [
    "hls_model.predict(test_vector) -  student.predict(test_vector)"
   ]
  },
  {
   "cell_type": "code",
   "execution_count": 10,
   "metadata": {},
   "outputs": [
    {
     "name": "stdout",
     "output_type": "stream",
     "text": [
      "Recompiling myproject with tracing\n",
      "Writing HLS project\n",
      "WARNING:tensorflow:Compiled the loaded model, but the compiled metrics have yet to be built. `model.compile_metrics` will be empty until you train or evaluate the model.\n"
     ]
    },
    {
     "name": "stderr",
     "output_type": "stream",
     "text": [
      "WARNING:tensorflow:Compiled the loaded model, but the compiled metrics have yet to be built. `model.compile_metrics` will be empty until you train or evaluate the model.\n"
     ]
    },
    {
     "name": "stdout",
     "output_type": "stream",
     "text": [
      "Done\n"
     ]
    }
   ],
   "source": [
    "hls4ml_pred, hls4ml_trace = hls_model.trace(test_vector)"
   ]
  },
  {
   "cell_type": "code",
   "execution_count": 11,
   "metadata": {},
   "outputs": [
    {
     "data": {
      "text/plain": [
       "{'Dense_1': array([[  1949. , -12148.5,  38461.5, -41044.5,  34067. ,  43674.5,\n",
       "         -32010.5,  31962.5, -43711.5,  16183. ,  35914. , -14119.5,\n",
       "          18284. ,  -3413. ,  36540. ]]),\n",
       " 'Activation_1': array([[3.875, 0.   , 3.875, 0.   , 3.875, 3.875, 0.   , 3.875, 0.   ,\n",
       "         3.875, 3.875, 0.   , 3.875, 0.   , 3.875]]),\n",
       " 'Out': array([[10.171875]])}"
      ]
     },
     "execution_count": 11,
     "metadata": {},
     "output_type": "execute_result"
    }
   ],
   "source": [
    "hls4ml_trace"
   ]
  },
  {
   "cell_type": "code",
   "execution_count": 12,
   "metadata": {},
   "outputs": [],
   "source": [
    "# keras_trace = hls4ml.model.profiling.get_ymodel_keras(model, test_vector.reshape(1, 18, 14))"
   ]
  },
  {
   "cell_type": "code",
   "execution_count": 13,
   "metadata": {},
   "outputs": [],
   "source": [
    "# hls4ml_trace['Dense_1']"
   ]
  },
  {
   "cell_type": "code",
   "execution_count": 14,
   "metadata": {},
   "outputs": [],
   "source": [
    "# keras_trace['Dense_1']"
   ]
  },
  {
   "cell_type": "code",
   "execution_count": 15,
   "metadata": {},
   "outputs": [],
   "source": [
    "# hls4ml_trace['QBN_1']"
   ]
  },
  {
   "cell_type": "code",
   "execution_count": 16,
   "metadata": {},
   "outputs": [],
   "source": [
    "# keras_trace['QBN_1']"
   ]
  },
  {
   "cell_type": "code",
   "execution_count": 17,
   "metadata": {},
   "outputs": [],
   "source": [
    "# hls4ml_trace['Activation_1']"
   ]
  },
  {
   "cell_type": "code",
   "execution_count": 18,
   "metadata": {},
   "outputs": [],
   "source": [
    "# keras_trace['Activation_1']"
   ]
  },
  {
   "cell_type": "code",
   "execution_count": 19,
   "metadata": {},
   "outputs": [],
   "source": [
    "# hls4ml_trace['Out']"
   ]
  },
  {
   "cell_type": "code",
   "execution_count": 20,
   "metadata": {},
   "outputs": [],
   "source": [
    "# keras_trace['Out']"
   ]
  },
  {
   "cell_type": "markdown",
   "metadata": {},
   "source": [
    "# Synthesis"
   ]
  },
  {
   "cell_type": "code",
   "execution_count": 49,
   "metadata": {},
   "outputs": [],
   "source": [
    "# Change the uncertainty in tcl: set_clock_uncertainty 30% {get_clocks default}\n",
    "\n",
    "!grep -n create_clock CaloADTrigger/build_prj.tcl | awk -F \":\" '{print$1}' | ( read line; echo \"$((line + 1)) \") | xargs -I {} sed -i '{} i set_clock_uncertainty 30% {get_clocks default}' CaloADTrigger/build_prj.tcl "
   ]
  },
  {
   "cell_type": "code",
   "execution_count": 48,
   "metadata": {},
   "outputs": [
    {
     "name": "stdout",
     "output_type": "stream",
     "text": [
      "168 \r\n"
     ]
    }
   ],
   "source": [
    "# Run Vivado HLS\n",
    "\n",
    "!vivado_hls -f CaloADTrigger/build_prj.tcl \"reset=1 synth=1 csim=0 cosim=0 validation=0 export=0 vsynth=0\""
   ]
  },
  {
   "cell_type": "code",
   "execution_count": null,
   "metadata": {},
   "outputs": [],
   "source": [
    "# Get the report\n",
    "\n",
    "!cat CaloADTrigger/myproject_prj/solution1/syn/report/myproject_csynth.rpt"
   ]
  },
  {
   "cell_type": "code",
   "execution_count": null,
   "metadata": {},
   "outputs": [],
   "source": []
  }
 ],
 "metadata": {
  "kernelspec": {
   "display_name": "Python 3 (ipykernel)",
   "language": "python",
   "name": "python3"
  },
  "language_info": {
   "codemirror_mode": {
    "name": "ipython",
    "version": 3
   },
   "file_extension": ".py",
   "mimetype": "text/x-python",
   "name": "python",
   "nbconvert_exporter": "python",
   "pygments_lexer": "ipython3",
   "version": "3.9.12"
  }
 },
 "nbformat": 4,
 "nbformat_minor": 4
}

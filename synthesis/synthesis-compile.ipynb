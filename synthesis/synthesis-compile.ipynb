{
 "cells": [
  {
   "cell_type": "markdown",
   "metadata": {},
   "source": [
    "# Set Config and Complie"
   ]
  },
  {
   "cell_type": "code",
   "execution_count": null,
   "metadata": {},
   "outputs": [],
   "source": [
    "MODEL_DIR = './ML_CMSL1CaloTrigger/saved_models/qmodel_oct24'"
   ]
  },
  {
   "cell_type": "code",
   "execution_count": null,
   "metadata": {},
   "outputs": [],
   "source": [
    "import numpy as np\n",
    "import h5py\n",
    "import tensorflow as tf\n",
    "import hls4ml\n",
    "\n",
    "from qkeras import *\n",
    "from qkeras.utils import load_qmodel"
   ]
  },
  {
   "cell_type": "code",
   "execution_count": null,
   "metadata": {},
   "outputs": [],
   "source": [
    "model = load_qmodel(MODEL_DIR);\n",
    "model.summary()"
   ]
  },
  {
   "cell_type": "code",
   "execution_count": null,
   "metadata": {},
   "outputs": [],
   "source": [
    "hls4ml.model.optimizer.get_optimizer(\n",
    "    'output_rounding_saturation_mode'\n",
    ").configure(\n",
    "    layers=['relu1', 'relu2'],\n",
    "    rounding_mode='AP_RND',\n",
    "    saturation_mode='AP_SAT',\n",
    "    saturation_bits='AP_SAT'\n",
    ")\n",
    "hls4ml.model.optimizer.get_optimizer(\n",
    "    'eliminate_linear_activation'\n",
    ")\n",
    "\n",
    "hls_config = hls4ml.utils.config_from_keras_model(\n",
    "    model,\n",
    "    granularity='name'\n",
    ")\n",
    "\n",
    "hls_config['Model']['ReuseFactor'] = 4\n",
    "hls_config['Model']['Strategy'] = 'Resource'\n",
    "hls_config['Model']['ClockPeriod']  = 6.25\n",
    "hls_config['Model']['Precision'] = 'ap_fixed<16, 6>'\n",
    "# hls_config['Model']['Trace']  = True\n",
    "\n",
    "for layer in hls_config['LayerName'].keys():\n",
    "    hls_config['LayerName'][layer]['Strategy'] = 'Resource'\n",
    "    hls_config['LayerName'][layer]['ReuseFactor'] = 4\n",
    "    # hls_config['LayerName'][layer]['Trace'] = True\n",
    "\n",
    "hls_config['LayerName']['In']['Precision']['accum'] = 'ap_uint<10>'\n",
    "hls_config['LayerName']['In']['Precision']['result'] = 'ap_uint<10>'\n",
    "\n",
    "hls_config['LayerName']['conv']['Precision']['accum'] = 'ap_fixed<20, 8>'\n",
    "hls_config['LayerName']['conv']['Precision']['result'] = 'ap_fixed<15, 8>'\n",
    "hls_config['LayerName']['conv_linear']['Precision'] = 'ap_fixed<15, 8>'\n",
    "hls_config['LayerName']['conv']['Strategy'] = 'Resource'\n",
    "hls_config['LayerName']['conv']['ReuseFactor'] = 1\n",
    "hls_config['LayerName']['conv']['ParallelizationFactor'] = 12\n",
    "\n",
    "hls_config['LayerName']['relu1']['Precision']['result'] = 'ap_ufixed<10, 4>'\n",
    "\n",
    "hls_config['LayerName']['dense1']['Precision']['accum'] = 'ap_fixed<22, 8>'\n",
    "hls_config['LayerName']['dense1']['Precision']['result'] = 'ap_fixed<14, 8>'\n",
    "hls_config['LayerName']['dense1_linear']['Precision'] = 'ap_fixed<14, 8>'\n",
    "\n",
    "hls_config['LayerName']['relu2']['Precision']['result'] = 'ap_ufixed<10, 4>' #16 ok\n",
    "\n",
    "hls_config['LayerName']['output']['Precision']['accum'] = 'ap_fixed<16, 8>'\n",
    "hls_config['LayerName']['output']['Precision']['result'] = 'ap_ufixed<16, 8>'\n",
    "hls_config['LayerName']['output_linear']['Precision'] = 'ap_ufixed<16, 8>'\n",
    "\n",
    "cfg = hls4ml.converters.create_config(part=\"xc7vx690tffg1927-2\")\n",
    "\n",
    "cfg['IOType'] = 'io_parallel'\n",
    "cfg['HLSConfig'] = hls_config\n",
    "cfg['KerasModel'] = model\n",
    "cfg['ClockPeriod']  = 6.25\n",
    "cfg['OutputDir']  = 'cicada/'\n",
    "cfg['Part'] = 'xc7vx690tffg1927-2'"
   ]
  },
  {
   "cell_type": "code",
   "execution_count": null,
   "metadata": {},
   "outputs": [],
   "source": [
    "hls_model = hls4ml.converters.keras_to_hls(cfg)\n",
    "\n",
    "hls4ml.model.optimizer.get_optimizer(\n",
    "    'output_rounding_saturation_mode'\n",
    ").configure(layers=[])\n",
    "hls_model.compile()"
   ]
  },
  {
   "cell_type": "code",
   "execution_count": null,
   "metadata": {},
   "outputs": [],
   "source": [
    "hls4ml.utils.plot_model(hls_model, show_shapes=False, show_precision=True, to_file=None)"
   ]
  },
  {
   "cell_type": "code",
   "execution_count": null,
   "metadata": {},
   "outputs": [],
   "source": [
    "hls4ml.model.profiling.numerical(model=model, hls_model=hls_model);"
   ]
  },
  {
   "cell_type": "markdown",
   "metadata": {},
   "source": [
    "# Testing"
   ]
  },
  {
   "cell_type": "code",
   "execution_count": null,
   "metadata": {},
   "outputs": [],
   "source": [
    "ACCEPTED_ERROR = 1.4"
   ]
  },
  {
   "cell_type": "code",
   "execution_count": null,
   "metadata": {},
   "outputs": [],
   "source": [
    "# Test vector, zeros:\n",
    "tv_0 = np.zeros((1, 252)) + 0.\n",
    "\n",
    "# Test vector, ones:\n",
    "tv_1 = np.zeros((1, 252)) + 1.\n",
    "\n",
    "# Test vector, mean zero bias, 2018 run D:\n",
    "tv_zb = np.array([[2, 1, 1, 2, 1, 2, 3, 3, 3, 2, 3, 1, 1, 2],\n",
    "       [2, 1, 1, 2, 2, 2, 3, 3, 2, 2, 3, 1, 1, 2],\n",
    "       [2, 1, 1, 1, 2, 2, 3, 3, 2, 2, 3, 1, 1, 2],\n",
    "       [2, 1, 1, 2, 1, 2, 3, 3, 2, 1, 2, 1, 1, 2],\n",
    "       [2, 1, 1, 2, 2, 2, 3, 4, 3, 2, 4, 1, 1, 2],\n",
    "       [2, 1, 1, 2, 2, 2, 3, 3, 2, 2, 2, 1, 1, 2],\n",
    "       [2, 1, 1, 3, 2, 3, 5, 2, 2, 1, 3, 1, 1, 2],\n",
    "       [2, 1, 1, 2, 2, 3, 4, 3, 2, 2, 2, 1, 1, 3],\n",
    "       [2, 1, 1, 2, 2, 3, 4, 3, 2, 1, 2, 1, 1, 3],\n",
    "       [2, 1, 1, 2, 2, 2, 3, 3, 2, 1, 2, 1, 1, 2],\n",
    "       [2, 1, 1, 2, 2, 2, 3, 3, 2, 1, 2, 1, 1, 2],\n",
    "       [2, 1, 1, 2, 2, 2, 3, 3, 2, 1, 2, 1, 1, 2],\n",
    "       [2, 1, 1, 2, 2, 2, 3, 3, 2, 1, 3, 1, 1, 2],\n",
    "       [2, 1, 1, 2, 2, 2, 3, 3, 2, 1, 2, 1, 1, 2],\n",
    "       [0, 0, 0, 2, 2, 2, 3, 3, 2, 2, 2, 1, 1, 2],\n",
    "       [0, 0, 0, 3, 2, 3, 5, 4, 3, 2, 4, 1, 1, 2],\n",
    "       [2, 1, 1, 2, 2, 2, 4, 3, 2, 2, 4, 1, 1, 2],\n",
    "       [2, 1, 1, 2, 2, 2, 3, 3, 2, 1, 3, 1, 1, 2]]).reshape(1, 252) + 0.\n",
    "\n",
    "# Test vector, signal haa4b_ma15_powheg average:\n",
    "tv_sig = np.array([[8, 2, 2, 3, 3, 3, 3, 3, 3, 3, 3, 2, 2, 8],\n",
    "       [9, 2, 2, 3, 3, 3, 3, 3, 3, 2, 3, 2, 2, 9],\n",
    "       [9, 2, 2, 3, 2, 3, 3, 3, 3, 3, 3, 2, 2, 9],\n",
    "       [9, 2, 2, 3, 3, 3, 3, 3, 3, 3, 3, 2, 2, 9],\n",
    "       [8, 2, 2, 3, 3, 3, 3, 3, 3, 3, 3, 2, 2, 8],\n",
    "       [8, 2, 2, 3, 2, 3, 3, 3, 3, 3, 3, 2, 2, 8],\n",
    "       [9, 2, 2, 3, 3, 3, 3, 3, 3, 3, 3, 2, 2, 9],\n",
    "       [9, 2, 2, 3, 3, 3, 3, 3, 3, 2, 3, 2, 2, 9],\n",
    "       [9, 2, 2, 3, 3, 3, 3, 3, 3, 2, 3, 2, 2, 8],\n",
    "       [8, 2, 2, 3, 3, 3, 3, 3, 3, 2, 3, 2, 2, 8],\n",
    "       [9, 2, 2, 3, 3, 3, 3, 3, 3, 2, 3, 2, 2, 8],\n",
    "       [9, 2, 2, 3, 2, 3, 3, 3, 3, 3, 3, 2, 2, 9],\n",
    "       [9, 2, 2, 3, 2, 3, 3, 3, 3, 2, 3, 2, 2, 9],\n",
    "       [8, 2, 2, 3, 3, 3, 3, 3, 3, 3, 3, 2, 2, 8],\n",
    "       [8, 2, 2, 3, 3, 3, 3, 3, 3, 2, 3, 2, 2, 8],\n",
    "       [9, 2, 2, 3, 3, 3, 3, 3, 3, 3, 3, 2, 2, 9],\n",
    "       [9, 2, 2, 3, 3, 3, 3, 3, 3, 3, 3, 2, 2, 9],\n",
    "       [8, 2, 2, 3, 2, 3, 3, 3, 3, 2, 3, 2, 2, 8]]).reshape(1, 252) + 0.\n",
    "\n",
    "# Test vector, hand made:\n",
    "tv_hand = np.array([[2, 1, 1, 2, 1, 2, 3, 3, 3, 2, 3, 1, 1, 2],\n",
    "       [2, 1, 1, 2, 2, 2, 3, 3, 2, 2, 3, 1, 1, 2],\n",
    "       [2, 1, 1, 1, 2, 2, 1023, 3, 2, 2, 3, 1, 1, 2],\n",
    "       [2, 1, 1, 2, 1, 2, 3, 3, 2, 1, 2, 1, 1, 2],\n",
    "       [2, 1, 1, 1023, 1023, 2, 3, 4, 3, 2, 4, 1023, 1, 2],\n",
    "       [2, 1, 1023, 1023, 2, 2, 3, 3, 2, 2, 2, 1, 1, 2],\n",
    "       [2, 1, 1, 3, 2, 3, 5, 2, 2, 1, 3, 1023, 1, 2],\n",
    "       [2, 1, 1, 2, 2, 3, 4, 3, 2, 2, 2, 1, 1, 3],\n",
    "       [2, 1, 1, 2, 2, 3, 4, 3, 2, 1, 2, 1, 1, 3],\n",
    "       [2, 1, 1, 2, 2, 2, 3, 3, 1023, 1, 2, 1, 1, 2],\n",
    "       [2, 1, 1, 1023, 2, 2, 3, 3, 2, 1, 2, 1, 1, 2],\n",
    "       [2, 1, 1, 2, 2, 2, 3, 3, 2, 1, 2, 1, 1, 2],\n",
    "       [2, 1, 1, 2, 2, 2, 3, 3, 2, 1, 3, 1, 1, 2],\n",
    "       [2, 1, 1, 2, 1023, 2, 3, 3, 2, 1, 2, 1, 1, 2],\n",
    "       [0, 1023, 0, 2, 2, 2, 3, 3, 2, 2, 2, 1, 1, 2],\n",
    "       [0, 0, 0, 3, 2, 3, 5, 4, 3, 2, 4, 1, 1, 2],\n",
    "       [2, 1, 1, 2, 2, 2, 4, 3, 2, 2, 1023, 1, 1, 2],\n",
    "       [2, 1023, 1, 2, 2, 2, 3, 3, 2, 1, 3, 1, 1, 2]]).reshape(1, 252) + 0."
   ]
  },
  {
   "cell_type": "code",
   "execution_count": null,
   "metadata": {},
   "outputs": [],
   "source": [
    "for tv in [tv_0, tv_1, tv_zb, tv_sig, tv_hand]:\n",
    "    print(abs(model.predict(tv) - hls_model.predict(tv)) <= ACCEPTED_ERROR)"
   ]
  },
  {
   "cell_type": "code",
   "execution_count": null,
   "metadata": {},
   "outputs": [],
   "source": [
    "# Real signal samples\n",
    "\n",
    "scores = []\n",
    "errors = []\n",
    "\n",
    "for dataset in [\n",
    "    '/eos/user/a/adpol/L1AD/Signal/120X/haa4taus_ma15_powheg.h5',\n",
    "    '/eos/user/a/adpol/L1AD/Signal/120X/haa4b_ma50_powheg.h5',\n",
    "    '/eos/user/a/adpol/L1AD/Signal/120X/emj-mMed-800-mDark-10-ctau-1000.h5']:\n",
    "    print(dataset)\n",
    "    X_test = h5py.File(dataset,'r')['CaloRegions']\n",
    "    for idx in range(min(4000, len(X_test))):\n",
    "        vector = X_test[idx].reshape(1, 252) + 0.\n",
    "        score_keras = float(model.predict(vector))\n",
    "        score_hls4ml = hls_model.predict(vector)\n",
    "        diff = abs(score_keras - score_hls4ml)\n",
    "        if diff > ACCEPTED_ERROR:\n",
    "            print('Error', diff)\n",
    "        errors.append(diff)\n",
    "        scores.append(score_keras)"
   ]
  },
  {
   "cell_type": "code",
   "execution_count": null,
   "metadata": {},
   "outputs": [],
   "source": [
    "import matplotlib\n",
    "import matplotlib.pyplot as plt\n",
    "\n",
    "plt.figure(figsize=(10, 10))\n",
    "plt.scatter(scores, errors, s=1)\n",
    "plt.xlabel('Anomaly Score, $S$', fontsize=18)\n",
    "plt.ylabel('Error, $|S_{Keras} - S_{hls4ml}|$', fontsize=18)"
   ]
  },
  {
   "cell_type": "markdown",
   "metadata": {},
   "source": [
    "# QKeras and HLS4ML Comparison"
   ]
  },
  {
   "cell_type": "code",
   "execution_count": null,
   "metadata": {},
   "outputs": [],
   "source": [
    "ZeroBias = h5py.File('/eos/user/a/adpol/L1AD/Background/EphemeralZeroBias2018RunD_1.h5', 'r')\n",
    "ZeroBias = ZeroBias['CaloRegions'][:500000].astype('float32').reshape(-1, 252)\n",
    "print('ZeroBias shape: ' + str(ZeroBias.shape))\n",
    "\n",
    "MC_files = ['/eos/user/a/adpol/L1AD/Signal/120X/GluGluHToTauTau_M-125_TuneCP5_14TeV.h5',\n",
    "            '/eos/user/a/adpol/L1AD/Signal/120X/GluGluToHHTo4B_node_cHHH1_TuneCP5_14TeV.h5',\n",
    "            '/eos/user/a/adpol/L1AD/Signal/120X/TT_TuneCP5_14TeV.h5',\n",
    "            '/eos/user/a/adpol/L1AD/Signal/120X/haa4b_ma15_powheg.h5']\n",
    "MC = []\n",
    "for i in range(len(MC_files)):\n",
    "    MC.append(h5py.File(MC_files[i], 'r'))\n",
    "    MC[i] = MC[i]['CaloRegions'][:500000].astype('float32').reshape(-1, 252)\n",
    "    print('i = ' + str(i) + ': ' + str(MC[i].shape))"
   ]
  },
  {
   "cell_type": "code",
   "execution_count": null,
   "metadata": {},
   "outputs": [],
   "source": [
    "from sklearn.model_selection import train_test_split\n",
    "\n",
    "_, X_test = train_test_split(ZeroBias, test_size=0.4, random_state=123)"
   ]
  },
  {
   "cell_type": "code",
   "execution_count": null,
   "metadata": {},
   "outputs": [],
   "source": [
    "X_test_predict_keras = model.predict(X_test)\n",
    "X_test_predict_hls = hls_model.predict(X_test)"
   ]
  },
  {
   "cell_type": "code",
   "execution_count": null,
   "metadata": {},
   "outputs": [],
   "source": [
    "MC_predict_keras = []\n",
    "for i in range(len(MC)):\n",
    "    MC_predict_keras.append(model.predict(MC[i]))\n",
    "\n",
    "MC_predict_hls = []\n",
    "for i in range(len(MC)):\n",
    "    MC_predict_hls.append(hls_model.predict(MC[i]))"
   ]
  },
  {
   "cell_type": "code",
   "execution_count": null,
   "metadata": {},
   "outputs": [],
   "source": [
    "Y_zb = np.zeros((X_test.shape[0], 1))\n",
    "Y_mc = []\n",
    "for i in range(len(MC)):\n",
    "    Y_mc.append(np.ones((MC[i].shape[0], 1)))\n",
    "\n",
    "Y_true = []\n",
    "Y_model_hls = []\n",
    "Y_model_keras = []\n",
    "\n",
    "for i in range(len(MC)):\n",
    "    Y_true.append(np.concatenate((Y_mc[i], Y_zb)))\n",
    "    Y_model_keras.append(np.concatenate((MC_predict_keras[i], X_test_predict_keras)))\n",
    "    Y_model_hls.append(np.concatenate((MC_predict_hls[i], X_test_predict_hls)))"
   ]
  },
  {
   "cell_type": "code",
   "execution_count": null,
   "metadata": {},
   "outputs": [],
   "source": [
    "import matplotlib.pyplot as plt\n",
    "from sklearn.metrics import roc_curve, auc\n",
    "\n",
    "plt.figure(figsize = (10, 10))\n",
    "axes = plt.subplot(1, 1, 1)\n",
    "fpr_model = []\n",
    "tpr_model = []\n",
    "thresholds_model = []\n",
    "roc_auc_model = []\n",
    "cmap = ['green', 'red', 'blue', 'orange']\n",
    "labels = ['H->tautau', 'SM HH->4b', 'TTbar', 'H->aa->4b']\n",
    "for y_true, y_score_keras, y_score_hls, c, label in zip(Y_true, Y_model_keras, Y_model_hls, cmap, labels):\n",
    "    \n",
    "    fpr, tpr, thresholds = roc_curve(y_true, y_score_keras)\n",
    "    roc_auc = auc(fpr, tpr)\n",
    "    fpr *= 28.61\n",
    "    \n",
    "    axes.plot(fpr,\n",
    "              tpr,\n",
    "              linestyle = '-',\n",
    "              lw = 1.5,\n",
    "              color=c,\n",
    "              label = 'Keras: {0}, AUC = {1:.5f}'.format(label, roc_auc))\n",
    "    \n",
    "    fpr, tpr, thresholds = roc_curve(y_true, y_score_hls)\n",
    "    roc_auc = auc(fpr, tpr)\n",
    "    fpr *= 28.61\n",
    "    \n",
    "    axes.plot(fpr,\n",
    "              tpr,\n",
    "              linestyle = '--',\n",
    "              lw = 1.5,\n",
    "              color=c,\n",
    "              label = 'hls4ml: {0}, AUC = {1:.5f}'.format(label, roc_auc))\n",
    "\n",
    "axes.plot([0.005, 0.005], [0, 1], linestyle = '--', lw = 1.5, color = 'black', label = '5 kHz trigger rate')\n",
    "axes.set_xlim([0.0002861, 28.61])\n",
    "axes.set_ylim([0.001, 1.0])\n",
    "axes.set_xscale(value = \"log\")\n",
    "axes.set_yscale(value = \"log\")\n",
    "axes.set_xlabel('Trigger Rate (MHz)', fontsize=18)\n",
    "axes.set_ylabel('Signal Efficiency', fontsize=18)\n",
    "axes.set_title('QKeras vs. hls4ml Comparison', fontsize=18)\n",
    "axes.legend(fontsize=18)\n",
    "plt.show()"
   ]
  },
  {
   "cell_type": "markdown",
   "metadata": {},
   "source": [
    "# Debug"
   ]
  },
  {
   "cell_type": "code",
   "execution_count": null,
   "metadata": {},
   "outputs": [],
   "source": [
    "model.predict(tv_0), hls_model.predict(tv_0)"
   ]
  },
  {
   "cell_type": "code",
   "execution_count": null,
   "metadata": {},
   "outputs": [],
   "source": [
    "hls4ml_pred, hls4ml_trace = hls_model.trace(tv_0)\n",
    "keras_trace = hls4ml.model.profiling.get_ymodel_keras(model, tv_0)"
   ]
  },
  {
   "cell_type": "markdown",
   "metadata": {},
   "source": [
    "# Synthesis"
   ]
  },
  {
   "cell_type": "code",
   "execution_count": null,
   "metadata": {},
   "outputs": [],
   "source": [
    "# Change the uncertainty in tcl: set_clock_uncertainty 30% {get_clocks default}\n",
    "\n",
    "!grep -n create_clock cicada/build_prj.tcl | awk -F \":\" '{print$1}' | ( read line; echo \"$((line + 1)) \") | xargs -I {} sed -i '{} i set_clock_uncertainty 30% {get_clocks default}' cicada/build_prj.tcl \n"
   ]
  },
  {
   "cell_type": "code",
   "execution_count": null,
   "metadata": {},
   "outputs": [],
   "source": [
    "# Run Vivado HLS\n",
    "\n",
    "!vivado_hls -f cicada/build_prj.tcl \"reset=1 synth=1 csim=0 cosim=0 validation=0 export=0 vsynth=0\"\n"
   ]
  },
  {
   "cell_type": "code",
   "execution_count": null,
   "metadata": {},
   "outputs": [],
   "source": [
    "# Get the report\n",
    "\n",
    "!cat cicada/myproject_prj/solution1/syn/report/myproject_csynth.rpt\n"
   ]
  }
 ],
 "metadata": {
  "kernelspec": {
   "display_name": "Python 3 (ipykernel)",
   "language": "python",
   "name": "python3"
  },
  "language_info": {
   "codemirror_mode": {
    "name": "ipython",
    "version": 3
   },
   "file_extension": ".py",
   "mimetype": "text/x-python",
   "name": "python",
   "nbconvert_exporter": "python",
   "pygments_lexer": "ipython3",
   "version": "3.9.12"
  }
 },
 "nbformat": 4,
 "nbformat_minor": 4
}

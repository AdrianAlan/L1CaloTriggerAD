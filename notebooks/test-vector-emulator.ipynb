{
 "cells": [
  {
   "cell_type": "code",
   "execution_count": null,
   "metadata": {},
   "outputs": [],
   "source": [
    "# Change an input here:\n",
    "\n",
    "INPUT_FILE = '' # '/eos/cms/store/group/dpg_trigger/comm_trigger/L1Trigger/bundocka/EZB_12_108p1/EphemeralZeroBias3/zbD3/211125_213433/0000/L1Ntuple_10.root'\n",
    "MODEL_PATH = '' #'ML_CMSL1CaloTrigger/saved_models/qmodel'"
   ]
  },
  {
   "cell_type": "code",
   "execution_count": null,
   "metadata": {},
   "outputs": [],
   "source": [
    "import awkward as ak\n",
    "import numpy as np\n",
    "import tensorflow\n",
    "import uproot\n",
    "\n",
    "from dataclasses import dataclass\n",
    "from skimage.measure import block_reduce\n",
    "from qkeras.utils import load_qmodel"
   ]
  },
  {
   "cell_type": "code",
   "execution_count": null,
   "metadata": {},
   "outputs": [],
   "source": [
    "@dataclass\n",
    "class DataSource:\n",
    "    ids: ak.highlevel.Array\n",
    "    phi: ak.highlevel.Array\n",
    "    eta: ak.highlevel.Array\n",
    "    et: ak.highlevel.Array\n",
    "    size: int\n",
    "    _calo_vars = ['iet', 'ieta', 'iphi', 'iem']\n",
    "\n",
    "    def __init__(self, input_file, tree_name):\n",
    "        with uproot.open(input_file) as in_file:\n",
    "            tree = in_file[tree_name]\n",
    "            arrays = tree.arrays(self._calo_vars)\n",
    "            eta = arrays['ieta']\n",
    "            phi = arrays['iphi']\n",
    "            et = arrays['iet']\n",
    "            em = arrays['iem']\n",
    "            self.size = len(eta)\n",
    "    \n",
    "            mask = (eta >= -28) & (eta <= 28)\n",
    "            eta, phi, et, em = eta[mask], phi[mask], et[mask], em[mask]\n",
    "            eta = ak.where(eta < 0, eta, eta - 1)\n",
    "            eta = eta + 28\n",
    "            phi = (phi + 2) % 72\n",
    "    \n",
    "            ids = np.arange(len(eta))\n",
    "            self.ids = ak.flatten(ak.broadcast_arrays(ids, eta)[0])\n",
    "            self.phi = ak.flatten(phi, None)\n",
    "            self.eta = ak.flatten(eta, None)\n",
    "            self.et = ak.flatten(et, None)\n",
    "    \n",
    "    def __len__(self):\n",
    "        return self.size\n",
    "    \n",
    "source = DataSource(INPUT_FILE, 'l1CaloTowerEmuTree/L1CaloTowerTree')\n",
    "events = len(source)\n",
    "deposits = np.zeros((events, 72, 56))\n",
    "deposits_ecal = np.zeros((events, 72, 56))\n",
    "\n",
    "# Get raw data\n",
    "ids = source.ids.to_numpy()\n",
    "phi = source.phi.to_numpy()\n",
    "eta = source.eta.to_numpy()\n",
    "et = source.et.to_numpy()\n",
    "\n",
    "# Calculate regional deposits\n",
    "deposits[ids, phi, eta] = et\n",
    "\n",
    "# Reduce to towers\n",
    "region_et = block_reduce(deposits, (1, 4, 4), np.sum)\n",
    "\n",
    "student = load_qmodel(MODEL_PATH)"
   ]
  },
  {
   "cell_type": "code",
   "execution_count": null,
   "metadata": {},
   "outputs": [],
   "source": [
    "in_file = uproot.open(INPUT_FILE)\n",
    "\n",
    "for event_id in range(5):\n",
    "    print(\"Run: {}. Lumi: {}. Event ID: {}. Anomaly score: {}.\".format(\n",
    "        in_file['l1EventTree/L1EventTree']['run'].array()[event_id],\n",
    "        in_file['l1EventTree/L1EventTree']['lumi'].array()[event_id],\n",
    "        in_file['l1EventTree/L1EventTree']['event'].array()[event_id],\n",
    "        student.predict(np.expand_dims(region_et[event_id], 0)).flatten()[0]\n",
    "    ))"
   ]
  },
  {
   "cell_type": "code",
   "execution_count": null,
   "metadata": {},
   "outputs": [],
   "source": []
  }
 ],
 "metadata": {
  "kernelspec": {
   "display_name": "Python 3",
   "language": "python",
   "name": "python3"
  },
  "language_info": {
   "codemirror_mode": {
    "name": "ipython",
    "version": 3
   },
   "file_extension": ".py",
   "mimetype": "text/x-python",
   "name": "python",
   "nbconvert_exporter": "python",
   "pygments_lexer": "ipython3",
   "version": "3.8.5"
  }
 },
 "nbformat": 4,
 "nbformat_minor": 4
}
